{
  "nbformat": 4,
  "nbformat_minor": 0,
  "metadata": {
    "colab": {
      "name": "Project5_yonghwan_kim.ipynb",
      "provenance": [],
      "collapsed_sections": []
    },
    "kernelspec": {
      "name": "python3",
      "display_name": "Python 3"
    },
    "language_info": {
      "name": "python"
    }
  },
  "cells": [
    {
      "cell_type": "code",
      "metadata": {
        "id": "eRHbg72Te-pS"
      },
      "source": [
        "# Yonghwan Kim A11746276\n",
        "import networkx as nx\n",
        "import matplotlib.pyplot as plt\n",
        "import numpy as np\n",
        "import collections\n",
        "import copy\n",
        "import math"
      ],
      "execution_count": 1,
      "outputs": []
    },
    {
      "cell_type": "code",
      "metadata": {
        "colab": {
          "base_uri": "https://localhost:8080/"
        },
        "id": "yRi9i3jmfBZu",
        "outputId": "6bb7815f-0c66-40e7-b057-52342b18200a"
      },
      "source": [
        "from google.colab import drive\n",
        "drive.mount('/content/drive')"
      ],
      "execution_count": 2,
      "outputs": [
        {
          "output_type": "stream",
          "name": "stdout",
          "text": [
            "Drive already mounted at /content/drive; to attempt to forcibly remount, call drive.mount(\"/content/drive\", force_remount=True).\n"
          ]
        }
      ]
    },
    {
      "cell_type": "code",
      "metadata": {
        "id": "FeqapEoXeH3Z"
      },
      "source": [
        "# directory to the input file\n",
        "youtube_edgelist_dir = '/content/drive/MyDrive/Project5/YouTube.edgelist'\n",
        "twenty_percent_seed_communities_dir = '/content/drive/MyDrive/Project5/20percent_seed_communities.txt'\n",
        "neighborhood_seeds_dir = '/content/drive/MyDrive/Project5/neighborhood_seeds.txt'\n",
        "groundtruth_communities_dir = '/content/drive/MyDrive/Project5/groundtruth_communities.txt'"
      ],
      "execution_count": 3,
      "outputs": []
    },
    {
      "cell_type": "code",
      "metadata": {
        "colab": {
          "base_uri": "https://localhost:8080/"
        },
        "id": "JALOSZ75dhJk",
        "outputId": "2b0a1207-3979-45dd-c374-505cd3ca1994"
      },
      "source": [
        "graph = nx.read_edgelist(youtube_edgelist_dir, nodetype=int) # create undirected graph using youtube edgelist\n",
        "print(f'Is graph directed? {nx.is_directed(graph)}')\n",
        "print(f'graph: nodes {len(graph.nodes)}, edges {len(graph.edges)}') # graph nodes and edges"
      ],
      "execution_count": 4,
      "outputs": [
        {
          "output_type": "stream",
          "name": "stdout",
          "text": [
            "Is graph directed? False\n",
            "graph: nodes 7675, edges 35622\n"
          ]
        }
      ]
    },
    {
      "cell_type": "code",
      "metadata": {
        "id": "v1AfyCJgRBmh"
      },
      "source": [
        "# read ground truth community data for later evaluation\n",
        "ground_truth_dict = dict()\n",
        "\n",
        "# Open ground truth community file\n",
        "with open(groundtruth_communities_dir) as gtdr:\n",
        "    lines = gtdr.readlines()\n",
        "    com_count_g = 0\n",
        "\n",
        "    for line in lines:\n",
        "        if com_count_g not in ground_truth_dict:\n",
        "            ground_truth_dict[com_count_g] = []\n",
        "        nodes = line.split()\n",
        "        for n in nodes:\n",
        "            ground_truth_dict[com_count_g].append(int(n))\n",
        "        com_count_g = com_count_g + 1"
      ],
      "execution_count": 5,
      "outputs": []
    },
    {
      "cell_type": "code",
      "metadata": {
        "id": "uqSMxaUEl6T8"
      },
      "source": [
        "# number of communities\n",
        "K = 29\n",
        "# V * K, non-negative Factor Matrix, 20% seed initialization\n",
        "F_twenty_seed = np.zeros((len(graph.nodes), K))\n",
        "# V * K, non-negative Factor Matrix, Neighborhood seed initialization\n",
        "F_neighbor_seed = np.zeros((len(graph.nodes), K))\n",
        "# V * K, non-negative Factor Matrix, Random seed initialization\n",
        "F_random = np.random.rand(len(graph.nodes), K)\n",
        "\n",
        "twenty_seed_dict = dict()\n",
        "# create pass list\n",
        "twenty_seed_node_pass_list = []\n",
        "# Open 20% seed file\n",
        "with open(twenty_percent_seed_communities_dir) as tpsc:\n",
        "    lines = tpsc.readlines()\n",
        "    com_count = 0\n",
        "    for line in lines:\n",
        "        if com_count not in twenty_seed_dict:\n",
        "            twenty_seed_dict[com_count] = []\n",
        "        nodes = line.split()\n",
        "        for n in nodes:\n",
        "            twenty_seed_dict[com_count].append(int(n))\n",
        "            node_temp = int(n)\n",
        "            # set the given data 1 in F matrix\n",
        "            F_twenty_seed[node_temp][com_count] = 1\n",
        "            twenty_seed_node_pass_list.append(node_temp)\n",
        "        com_count = com_count + 1\n",
        "\n",
        "neighbor_seed_dict = dict()\n",
        "# create pass list\n",
        "neighbor_seed_node_pass_list = []\n",
        "# Open Neighborhood seed file\n",
        "with open(neighborhood_seeds_dir) as nsd:\n",
        "    lines = nsd.readlines()\n",
        "    com_count = 0\n",
        "    for line in lines:\n",
        "        if com_count not in neighbor_seed_dict:\n",
        "            neighbor_seed_dict[com_count] = []\n",
        "        nodes = line.split()\n",
        "        for n in nodes:\n",
        "            neighbor_seed_dict[com_count].append(int(n))\n",
        "            node_temp = int(n)\n",
        "            # set the given data 1 in F matrix\n",
        "            F_neighbor_seed[node_temp][com_count] = 1\n",
        "            neighbor_seed_node_pass_list.append(node_temp)\n",
        "        com_count = com_count + 1"
      ],
      "execution_count": 6,
      "outputs": []
    },
    {
      "cell_type": "code",
      "metadata": {
        "id": "Es78jJ8CknTA"
      },
      "source": [
        "# F matrix initialization function\n",
        "# parameter: graph, F matrix, pass list, seed type, node number, community number\n",
        "def mat_init(G, F, passList, seed_dict, node_num, comm_num):\n",
        "    temp_F = copy.deepcopy(F)\n",
        "    # travesed list to skip traversed nodes\n",
        "    travesedList = []\n",
        "\n",
        "    for r in range(node_num): # node\n",
        "        if r in travesedList:\n",
        "            continue\n",
        "        # guard to check pass list\n",
        "        guard = True\n",
        "        if r in passList:\n",
        "            guard = False\n",
        "\n",
        "        if guard:\n",
        "            # calculate conductance level to initialize F matrix\n",
        "            conductanceLevel = [] # conductance list\n",
        "            for k in range(comm_num): # community\n",
        "                tempList = copy.deepcopy(seed_dict[k])\n",
        "                tempList.append(r) # node u\n",
        "                tempList.extend(list(G.neighbors(r))) # node u's neighbors\n",
        "                conductanceLevel.append(nx.conductance(G, tempList)) # conductance\n",
        "\n",
        "            min_val = min(conductanceLevel) # locally minimum \n",
        "            min_index = conductanceLevel.index(min_val)\n",
        "            # assign 1 if locally minimum\n",
        "            temp_F[r][min_index] = 1\n",
        "            # assign 1 to u's neighbor if u is locally minimum\n",
        "            for neighbor in list(G.neighbors(r)):\n",
        "                temp_F[neighbor][min_index] = 1\n",
        "\n",
        "            travesedList.append(r)\n",
        "    return temp_F\n",
        "\n",
        "# Twenty seed F matrix initialization\n",
        "F_twenty_seed = copy.deepcopy(mat_init(graph, F_twenty_seed, twenty_seed_node_pass_list, twenty_seed_dict, len(graph.nodes), K))\n",
        "# Neighbor seed F matrix initialization\n",
        "F_neighbor_seed = copy.deepcopy(mat_init(graph, F_neighbor_seed, neighbor_seed_node_pass_list, neighbor_seed_dict, len(graph.nodes), K)) "
      ],
      "execution_count": 7,
      "outputs": []
    },
    {
      "cell_type": "code",
      "metadata": {
        "id": "fAdvtrmfC2bC"
      },
      "source": [
        "# F matrix factorization function\n",
        "# parameter: graph, F matrix, node number, community number, learning rate\n",
        "def mat_factorization(G, F, node_num, comm_num, learningRate):\n",
        "    final_F = copy.deepcopy(F)\n",
        "    # number of iteration\n",
        "    iter = 500\n",
        "    prv_sum = 0\n",
        "    cr_sum = 0\n",
        "    # list for second plot later\n",
        "    update_rate = dict()\n",
        "    # 500 iteration\n",
        "    for itr in range(iter):\n",
        "        # compute gradient delta L(Fu)\n",
        "        temp_F = copy.deepcopy(final_F)\n",
        "        # caching Fw\n",
        "        sum_Fw = np.zeros((comm_num,))\n",
        "        # calculate Fw / updating Fw every iteration\n",
        "        for n in range(node_num):\n",
        "            sum_Fw += temp_F[n]\n",
        "        \n",
        "        for n in range(node_num): # node\n",
        "            # bigclamv2.0 algorithm\n",
        "            neighb = list(G.neighbors(n))\n",
        "            sum_Fv = np.zeros((comm_num,))\n",
        "            sum_neigh = np.zeros((comm_num,))\n",
        "            for nb in neighb:\n",
        "                # Fu * Fv.transepose\n",
        "                fu_fvt = np.dot(temp_F[n], temp_F[nb].transpose())\n",
        "                s1 = np.exp(-1.0 * fu_fvt)\n",
        "                s2 = 1 - np.exp(-1.0 * fu_fvt)\n",
        "                if s1 != 0 and s2 != 0:\n",
        "                    sum_neigh += temp_F[nb] * np.divide(s1, s2)\n",
        "                sum_Fv += temp_F[nb]\n",
        "            # V2.0 to calculate Fv faster\n",
        "            sum_none_neigh = sum_Fw - temp_F[n] - sum_Fv\n",
        "            # delta L(Fu)\n",
        "            gradient_u = sum_neigh - sum_none_neigh\n",
        "            # update Fu values\n",
        "            temp_F[n] += learningRate * gradient_u\n",
        "            # update to non-negative\n",
        "            temp_F[n] = np.where(temp_F[n] < 0, 0, temp_F[n])\n",
        "\n",
        "        prv_sum = np.sum(final_F)\n",
        "        cr_sum = np.sum(temp_F)\n",
        "        # list for second plot later\n",
        "        update_rate[itr] = prv_sum / cr_sum * 100\n",
        "        final_F = copy.deepcopy(temp_F)\n",
        "        # Stop iterations either you reach I iterations or if the increase of Fu is less than 0.001% for all Fu\n",
        "        if prv_sum > cr_sum:\n",
        "            if cr_sum / prv_sum * 100 < 0.001:\n",
        "                print(iter)\n",
        "                break\n",
        "        if cr_sum > prv_sum:\n",
        "            if prv_sum / cr_sum * 100 < 0.001:\n",
        "                print(iter)\n",
        "                break\n",
        "    return (final_F, update_rate)"
      ],
      "execution_count": 8,
      "outputs": []
    },
    {
      "cell_type": "code",
      "metadata": {
        "id": "-bG1a7adrQk3"
      },
      "source": [
        "# Twenty seed factorization\n",
        "tws = mat_factorization(graph, F_twenty_seed, len(graph.nodes), K, 0.0001)"
      ],
      "execution_count": 9,
      "outputs": []
    },
    {
      "cell_type": "code",
      "metadata": {
        "id": "do9TbrDgrQcA"
      },
      "source": [
        "# Neighbor seed factorization\n",
        "ns = mat_factorization(graph, F_neighbor_seed, len(graph.nodes), K, 0.00001)"
      ],
      "execution_count": 10,
      "outputs": []
    },
    {
      "cell_type": "code",
      "metadata": {
        "id": "tFNVmiUirbSU"
      },
      "source": [
        "# Random seed factorization\n",
        "rnd = mat_factorization(graph, F_random, len(graph.nodes), K, 0.00001)"
      ],
      "execution_count": 11,
      "outputs": []
    },
    {
      "cell_type": "code",
      "metadata": {
        "id": "d7vUvdJ0l29Y"
      },
      "source": [
        "# Threshold for community assignment\n",
        "threshold_delta = math.sqrt(-1 * np.log(1 - (10 ** -8)))"
      ],
      "execution_count": 13,
      "outputs": []
    },
    {
      "cell_type": "code",
      "metadata": {
        "id": "bOeN3sd6aHPF"
      },
      "source": [
        "# Save Twenty seed F matrix into file\n",
        "F_twenty_seed_temp_copy = copy.deepcopy(tws[0])\n",
        "\n",
        "# community assignment\n",
        "for n_index in range(len(graph.nodes)):\n",
        "    for c_index in range(K):\n",
        "        if F_twenty_seed_temp_copy[n_index][c_index] >= threshold_delta:\n",
        "            F_twenty_seed_temp_copy[n_index][c_index] = 1\n",
        "        else:\n",
        "            F_twenty_seed_temp_copy[n_index][c_index] = 0\n",
        "# community prediction\n",
        "com_predict_t = dict()\n",
        "for k_index in range(K):\n",
        "    if k_index not in com_predict_t:\n",
        "        com_predict_t[k_index] = []\n",
        "# write into file\n",
        "for n_index in range(len(graph.nodes)):\n",
        "    for c_index in range(K):\n",
        "        if F_twenty_seed_temp_copy[n_index][c_index] == 1:\n",
        "            com_predict_t[c_index].append(n_index)\n",
        "textfile1 = open(\"/content/drive/MyDrive/Project5/20seed.txt\", \"w\")\n",
        "\n",
        "for k_index in range(K):\n",
        "    for element in com_predict_t[k_index]:\n",
        "        textfile1.write(str(element) + \" \")\n",
        "    textfile1.write(\"\\n\")\n",
        "\n",
        "textfile1.close()"
      ],
      "execution_count": 14,
      "outputs": []
    },
    {
      "cell_type": "code",
      "metadata": {
        "id": "Elq9Vtt16V_b"
      },
      "source": [
        "# Save Neighborhood seed F matrix into file\n",
        "F_neighbor_seed_temp_copy = copy.deepcopy(ns[0])\n",
        "\n",
        "# community assignment\n",
        "for n_index in range(len(graph.nodes)):\n",
        "    for c_index in range(K):\n",
        "        if F_neighbor_seed_temp_copy[n_index][c_index] >= threshold_delta:\n",
        "            F_neighbor_seed_temp_copy[n_index][c_index] = 1\n",
        "        else:\n",
        "            F_neighbor_seed_temp_copy[n_index][c_index] = 0\n",
        "# community prediction\n",
        "com_predict_n = dict()\n",
        "for k_index in range(K):\n",
        "    if k_index not in com_predict_n:\n",
        "        com_predict_n[k_index] = []\n",
        "# write into file\n",
        "for n_index in range(len(graph.nodes)):\n",
        "    for c_index in range(K):\n",
        "        if F_neighbor_seed_temp_copy[n_index][c_index] == 1:\n",
        "            com_predict_n[c_index].append(n_index)\n",
        "textfile2 = open(\"/content/drive/MyDrive/Project5/neighbor.txt\", \"w\")\n",
        "\n",
        "for k_index in range(K):\n",
        "    for element in com_predict_n[k_index]:\n",
        "        textfile2.write(str(element) + \" \")\n",
        "    textfile2.write(\"\\n\")\n",
        "\n",
        "textfile2.close()"
      ],
      "execution_count": 15,
      "outputs": []
    },
    {
      "cell_type": "code",
      "metadata": {
        "id": "9VGne3Si6Zgs"
      },
      "source": [
        "# Save Random seed F matrix into file\n",
        "F_random_temp_copy = copy.deepcopy(rnd[0])\n",
        "\n",
        "# community assignment\n",
        "for n_index in range(len(graph.nodes)):\n",
        "    for c_index in range(K):\n",
        "        if F_random_temp_copy[n_index][c_index] >= threshold_delta:\n",
        "            F_random_temp_copy[n_index][c_index] = 1\n",
        "        else:\n",
        "            F_random_temp_copy[n_index][c_index] = 0\n",
        "# community prediction\n",
        "com_predict_r = dict()\n",
        "for k_index in range(K):\n",
        "    if k_index not in com_predict_r:\n",
        "        com_predict_r[k_index] = []\n",
        "# write into file\n",
        "for n_index in range(len(graph.nodes)):\n",
        "    for c_index in range(K):\n",
        "        if F_random_temp_copy[n_index][c_index] == 1:\n",
        "            com_predict_r[c_index].append(n_index)\n",
        "textfile3 = open(\"/content/drive/MyDrive/Project5/random.txt\", \"w\")\n",
        "\n",
        "for k_index in range(K):\n",
        "    for element in com_predict_r[k_index]:\n",
        "        textfile3.write(str(element) + \" \")\n",
        "    textfile3.write(\"\\n\")\n",
        "\n",
        "textfile3.close()"
      ],
      "execution_count": 16,
      "outputs": []
    },
    {
      "cell_type": "code",
      "metadata": {
        "id": "Elx58vbwd44g"
      },
      "source": [
        "# recall function to calculate recall(C*, C^)\n",
        "def recall(gt_list, pr_list):\n",
        "    set_gt_list = set(gt_list)\n",
        "    set_pr_list = set(pr_list)\n",
        "    # # of true positive\n",
        "    true_positive = len(set_gt_list.intersection(set_pr_list))\n",
        "    true_positive_plus_false_negative = len(gt_list)\n",
        "    return true_positive/true_positive_plus_false_negative\n",
        "# recall function to calculate recall score\n",
        "def recall_score(gt, cp, c_size):\n",
        "    best_matching_com_list = []\n",
        "    # finding best matching community\n",
        "    for k1 in range(c_size):\n",
        "        best_matching_com = 0\n",
        "        nodeLen = 0\n",
        "        for k2 in range(c_size):\n",
        "            temp_set1 = set(gt[k1])\n",
        "            temp_set2 = set(cp[k2])\n",
        "            matching_len = len(temp_set1.intersection(temp_set2))\n",
        "            if matching_len > nodeLen:\n",
        "                best_matching_com = k2\n",
        "                nodeLen = matching_len\n",
        "        best_matching_com_list.append((k1, best_matching_com))\n",
        "    # calculate the recall score of ground truth community and the best matching community prediction\n",
        "    sum_recall = 0\n",
        "    for bmc in best_matching_com_list:\n",
        "        rc = recall(gt[bmc[0]], cp[bmc[1]])\n",
        "        sum_recall = sum_recall + rc\n",
        "\n",
        "    recall_score = sum_recall / c_size\n",
        "    return recall_score"
      ],
      "execution_count": 17,
      "outputs": []
    },
    {
      "cell_type": "code",
      "metadata": {
        "id": "g9ae81SMKBtB",
        "colab": {
          "base_uri": "https://localhost:8080/"
        },
        "outputId": "c5882b55-4b0c-4132-f90e-f393126ce4c1"
      },
      "source": [
        "# recall score for 20% seed\n",
        "recall_score_20seed = recall_score(ground_truth_dict, com_predict_t, K)\n",
        "# recall score for neighborhood seed\n",
        "recall_score_neighb = recall_score(ground_truth_dict, com_predict_n, K)\n",
        "# recall score for 2random seed\n",
        "recall_score_random = recall_score(ground_truth_dict, com_predict_r, K)\n",
        "\n",
        "print(f'20% Seed Recall Score: {recall_score_20seed}')\n",
        "print(f'Neighborhood Seed Recall Score: {recall_score_neighb}')\n",
        "print(f'Random Seed Recall Score: {recall_score_random}')"
      ],
      "execution_count": 49,
      "outputs": [
        {
          "output_type": "stream",
          "name": "stdout",
          "text": [
            "20% Seed Recall Score: 0.8438959301195209\n",
            "Neighborhood Seed Recall Score: 0.781598806156333\n",
            "Random Seed Recall Score: 0.8136978981593308\n"
          ]
        }
      ]
    },
    {
      "cell_type": "markdown",
      "metadata": {
        "id": "u-XP1jUA1K03"
      },
      "source": [
        "# 20% Seed Recall Score: 0.8438959301195209\n",
        "# Neighborhood Seed Recall Score: 0.781598806156333\n",
        "# Random Seed Recall Score: 0.8136978981593308"
      ]
    },
    {
      "cell_type": "code",
      "metadata": {
        "colab": {
          "base_uri": "https://localhost:8080/",
          "height": 366
        },
        "id": "fHwwE9Z-w47N",
        "outputId": "a40a0288-b876-4ade-d746-2b4bcae34689"
      },
      "source": [
        "# bar plot to represent the difference of recall scores for each initializatio method\n",
        "fig = plt.figure()\n",
        "\n",
        "ax = fig.add_axes([0,0,1,1])\n",
        "\n",
        "seed_method = ['20% seed', 'neighborhood seed', 'random seed']\n",
        "recall_data = [recall_score_20seed, recall_score_neighb, recall_score_random]\n",
        "# draw bars\n",
        "ax.bar(seed_method, recall_data, color = 'b', width = 0.25)\n",
        "# plot title\n",
        "plt.title(\"Recall Score Plot\")\n",
        "# plot y label\n",
        "plt.ylabel(\"Value of Recall Score\")\n",
        "# plot x label\n",
        "plt.xlabel(\"Initialization Method\")\n",
        "plt.show()"
      ],
      "execution_count": 52,
      "outputs": [
        {
          "output_type": "display_data",
          "data": {
            "image/png": "[encoded data removed]",
            "text/plain": [
              "<Figure size 432x288 with 1 Axes>"
            ]
          },
          "metadata": {
            "needs_background": "light"
          }
        }
      ]
    },
    {
      "cell_type": "markdown",
      "metadata": {
        "id": "G8DTj7dU1T8-"
      },
      "source": [
        "# The recall score using the 20% seed initialization is the highest.\n",
        "# Random seed initialization method has different recall score every time it is excuted but my last result had even better result than neighborhood seed initialization.\n",
        "# The recall score using neighborhood seed initialization method had the lowest of all other method in my last trial though it is still very close to other score."
      ]
    },
    {
      "cell_type": "code",
      "metadata": {
        "id": "u297LEa3L9sj",
        "colab": {
          "base_uri": "https://localhost:8080/",
          "height": 295
        },
        "outputId": "fdec822f-fb0f-44e0-acb6-da6f66436a00"
      },
      "source": [
        "# plot of the changes of F matrix on every iteration\n",
        "t = range(0, 500)\n",
        "plt.plot(t, list(tws[1].values()), color='r', label='20%')\n",
        "plt.plot(t, list(ns[1].values()), color='b', label='Neighbor')\n",
        "plt.plot(t, list(rnd[1].values()), color='g', label='Random')\n",
        "# show legend\n",
        "plt.legend()\n",
        "# plot title\n",
        "plt.title(\"Function E Plot\")\n",
        "# plot y label\n",
        "plt.ylabel(\"Changes of F matrix\")\n",
        "# plot x label\n",
        "plt.xlabel(\"# of Iteration\")\n",
        "\n",
        "plt.show()"
      ],
      "execution_count": 51,
      "outputs": [
        {
          "output_type": "display_data",
          "data": {
            "image/png": "[encoded data removed]",
            "text/plain": [
              "<Figure size 432x288 with 1 Axes>"
            ]
          },
          "metadata": {
            "needs_background": "light"
          }
        }
      ]
    },
    {
      "cell_type": "markdown",
      "metadata": {
        "id": "SOlt76-Z2TQc"
      },
      "source": [
        "# The above graph shows the changes of F matrix on every iteration.\n",
        "# It indicates that the amount of changes are decreasing every iteration and converging to the point somewhat close to 100. It also shows that the 20% seed initialization is the most stable and random seed initialization is the least stable method on interation."
      ]
    }
  ]
}
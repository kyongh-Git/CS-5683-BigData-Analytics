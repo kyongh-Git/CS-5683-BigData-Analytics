{
  "nbformat": 4,
  "nbformat_minor": 0,
  "metadata": {
    "colab": {
      "name": "Project4_LF.ipynb",
      "provenance": [],
      "collapsed_sections": []
    },
    "kernelspec": {
      "name": "python3",
      "display_name": "Python 3"
    },
    "language_info": {
      "name": "python"
    }
  },
  "cells": [
    {
      "cell_type": "code",
      "metadata": {
        "id": "jEoe2kZQTImP"
      },
      "source": [
        "# Latent Factor Model\n",
        "# Project 4\n",
        "# Author: Yonghwan Kim A11746276\n",
        "# Team members: Yonghwan Kim, Sangeon Park"
      ],
      "execution_count": null,
      "outputs": []
    },
    {
      "cell_type": "code",
      "metadata": {
        "id": "H-zwcPfbFhH0"
      },
      "source": [
        "from sklearn.metrics import mean_squared_error\n",
        "from math import sqrt\n",
        "import csv\n",
        "import numpy as np\n",
        "import collections\n",
        "import copy\n",
        "import os,sys,humanize,psutil\n",
        "import matplotlib.pyplot as plt\n",
        "import random"
      ],
      "execution_count": null,
      "outputs": []
    },
    {
      "cell_type": "code",
      "metadata": {
        "colab": {
          "base_uri": "https://localhost:8080/"
        },
        "id": "jAiP0EzDFsE-",
        "outputId": "9ea9c5f4-ca07-4152-e65d-ba4311011c6e"
      },
      "source": [
        "from google.colab import drive\n",
        "drive.mount('/content/drive')"
      ],
      "execution_count": null,
      "outputs": [
        {
          "output_type": "stream",
          "name": "stdout",
          "text": [
            "Mounted at /content/drive\n"
          ]
        }
      ]
    },
    {
      "cell_type": "code",
      "metadata": {
        "id": "NkfVogZn4NL4"
      },
      "source": [
        "# RMSE funtion\n",
        "def RMSE(y_actual, y_predicted):\n",
        "    rms = sqrt(mean_squared_error(y_actual, y_predicted))\n",
        "    return round(rms,4)"
      ],
      "execution_count": null,
      "outputs": []
    },
    {
      "cell_type": "code",
      "metadata": {
        "id": "i9HwWEmeQCaA"
      },
      "source": [
        "k = 25 # factor, best case: k = 100\n",
        "lmbda = 0.1 # regularization parameter\n",
        "mu = 0.1 # learning rate\n",
        "iter = 40 # number of iterations\n",
        "m = 1682 # items\n",
        "n = 943 # users\n",
        "\n",
        "# 943 users\n",
        "# 1682 items\n",
        "# Initialization of P and Q:\n",
        "p = np.random.default_rng().uniform(0, np.sqrt(5/k), [m,k]) # P and Q to random values in [0,sqrt(5/𝑘)] # 1682 * 25\n",
        "q = np.random.default_rng().uniform(0, np.sqrt(5/k), [n,k]) # 943 * 25\n",
        "\n",
        "training_dataset_dir = '/content/drive/MyDrive/training_dataset.csv'\n",
        "# Update equations\n",
        "\n",
        "list_of_errors = []\n",
        "\n",
        "# 40 iterations\n",
        "for number in range(iter):\n",
        "    # Open file\n",
        "    with open(training_dataset_dir) as trdd:\n",
        "        # read from disk\n",
        "        csv_reader = csv.reader(trdd, delimiter=',')\n",
        "        line_count = 0\n",
        "        sum_rpq_sq = 0\n",
        "        sum_sq_px = 0\n",
        "        sum_sq_qi = 0\n",
        "        for row in csv_reader:\n",
        "            # header\n",
        "            if line_count == 0:\n",
        "                line_count += 1\n",
        "            # data\n",
        "            else:\n",
        "                # user ID row[0], item ID row[1], rating row[2]\n",
        "                x = int(row[1]) # item\n",
        "                i = int(row[0]) # user\n",
        "                r_xi = int(row[2]) # training rating\n",
        "                p_x = p[x-1] # l2norm\n",
        "                q_i = q[i-1] # l2norm\n",
        "                dt = np.dot(p_x, q_i) # dot product of px * qiT\n",
        "                rpq = r_xi - dt # rxi - px*qiT\n",
        "                px_rxi = (-1 * rpq * q_i) + (lmbda * p_x) # partial derivatives\n",
        "                qi_rxi = (-1 * rpq * p_x) + (lmbda * q_i) # partial derivatives\n",
        "                # update p and q\n",
        "                p[x-1] = p[x-1] - mu * px_rxi\n",
        "                q[i-1] = q[i-1] - mu * qi_rxi\n",
        "                # for E function\n",
        "                sum_rpq_sq = sum_rpq_sq + rpq ** 2\n",
        "                # sum of square The L2 norm that is calculated as the square root of the sum of the squared vector values.\n",
        "                sum_sq_px = sum_sq_px + np.sum(p_x**2)\n",
        "                sum_sq_qi = sum_sq_qi + np.sum(q_i**2)\n",
        "        error_function = sum_rpq_sq + lmbda * (sum_sq_px + sum_sq_qi)\n",
        "        list_of_errors.append(error_function)"
      ],
      "execution_count": null,
      "outputs": []
    },
    {
      "cell_type": "code",
      "metadata": {
        "colab": {
          "base_uri": "https://localhost:8080/",
          "height": 295
        },
        "id": "d-cnafe_5-AI",
        "outputId": "b7600136-750f-463d-b57f-0700921f374c"
      },
      "source": [
        "# plot of function E\n",
        "t = range(1,iter+1)\n",
        "# plot with data function E\n",
        "plt.plot(t, list_of_errors, color='r')\n",
        "# plot title\n",
        "plt.title(\"Function E Plot\")\n",
        "# plot y label\n",
        "plt.ylabel(\"Value of Function E\")\n",
        "# plot x label\n",
        "plt.xlabel(\"# of Iteration\")\n",
        "\n",
        "plt.show()"
      ],
      "execution_count": null,
      "outputs": [
        {
          "output_type": "display_data",
          "data": {
            "image/png": "[encoded data removed]",
            "text/plain": [
              "<Figure size 432x288 with 1 Axes>"
            ]
          },
          "metadata": {
            "needs_background": "light"
          }
        }
      ]
    },
    {
      "cell_type": "markdown",
      "metadata": {
        "id": "vE2FPoQOSOcr"
      },
      "source": [
        "![image.png](data:image/png;base64,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)"
      ]
    },
    {
      "cell_type": "code",
      "metadata": {
        "colab": {
          "base_uri": "https://localhost:8080/"
        },
        "id": "zJog1jKz7m6E",
        "outputId": "fcbdd81a-c31d-4642-b577-905906e799fd"
      },
      "source": [
        "# compute prediction value\n",
        "qT = np.transpose(q)\n",
        "# prediction value matrix\n",
        "r_mat = np.dot(p, qT)\n",
        "\n",
        "list_of_prediction = []\n",
        "list_of_realdata = []\n",
        "# read test_dataset to calculate accuracy\n",
        "test_dataset_dir = '/content/drive/MyDrive/test_dataset.csv'\n",
        "# For rmse accuracy test\n",
        "# Open file\n",
        "with open(test_dataset_dir) as tdd:\n",
        "    # read as csv\n",
        "    csv_reader = csv.reader(tdd, delimiter=',')\n",
        "    line_count = 0\n",
        "    for row in csv_reader:\n",
        "        # header\n",
        "        if line_count == 0:\n",
        "            line_count += 1\n",
        "        # data\n",
        "        else:\n",
        "            list_of_realdata.append(int(row[2]))\n",
        "            list_of_prediction.append(r_mat[int(row[1])-1][int(row[0])-1])\n",
        "            line_count += 1\n",
        "# RMSE\n",
        "latent_factor_rmse = RMSE(list_of_realdata, list_of_prediction)\n",
        "print(f'Latent Factor Model, RMSE: {latent_factor_rmse}')"
      ],
      "execution_count": null,
      "outputs": [
        {
          "output_type": "stream",
          "name": "stdout",
          "text": [
            "Latent Factor Model, RMSE: 1.1139\n"
          ]
        }
      ]
    },
    {
      "cell_type": "markdown",
      "metadata": {
        "id": "cXvQtfTrSv8H"
      },
      "source": [
        "Latent Factor Model, RMSE: 1.0845 with K factor > 100\n",
        "\n",
        "Latent Factor Model, RMSE: 1.1139 with K factor = 25"
      ]
    },
    {
      "cell_type": "markdown",
      "metadata": {
        "id": "V82jiVplRo9y"
      },
      "source": [
        "# Compare and contrast results from CF.py and LF.py\n",
        "\n",
        "Our final RMSE result shows that CF with interpolation weight is 1.3295\n",
        "and RMSE result for LF is 1.1139.\n",
        "\n",
        "The reason we think LF performs better than CF is that LF does not rely on the nature of the relationship of each items, instead it uses factor to predict the ratings. The problem of item-item collaborating is that if we are tring to predict the rating of a movie that has not been rated by any other users, it won't be able to use any base similar models to predict the rating. Also, if there are not enough similar items to use, the prediction won't be accurate as well. The given dataset we have used have abundent of similarity score that is lower than 0.5 and 10 of items were not be able to find any items from training dataset to train. Because Latent patern model can predict any rating regardless of relationship of each items or relationship of each users, it showed better accuracy. \n",
        "\n",
        "For the sense of convergence, both model has fast convergence rate but CF had significant speed of convergence compare to LF model. We gave the learning rate for CF as 0.0005 and LF as 0.1. CF had slower learning rate though converged faster than LF had faster learning rate. "
      ]
    },
    {
      "cell_type": "markdown",
      "metadata": {
        "id": "13-PvrhqTZDq"
      },
      "source": [
        "# Participation Report\n",
        "\n",
        "# Collaborative Filtering Model:\n",
        "\n",
        "Similarity: Sangeon Park, Yonghwan Kim\n",
        "\n",
        "SGD: Sangeon Park, Yonghwan Kim\n",
        "\n",
        "Compute J(w): Sangeon Park\n",
        "\n",
        "Plot: Sangeon Park\n",
        "\n",
        "RMSE: Sangeon Park\n",
        "\n",
        "\n",
        "\n",
        "# Latent Factor Model: \n",
        "\n",
        "SGD: Yonghwan Kim\n",
        "\n",
        "Compute E: Yonghwan Kim\n",
        "\n",
        "Plot: Yonghwan Kim\n",
        "\n",
        "RMSE: Yonghwan Kim\n"
      ]
    }
  ]
}
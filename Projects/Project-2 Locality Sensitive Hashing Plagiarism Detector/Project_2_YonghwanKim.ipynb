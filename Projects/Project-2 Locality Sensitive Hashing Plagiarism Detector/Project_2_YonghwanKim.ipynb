{
  "nbformat": 4,
  "nbformat_minor": 0,
  "metadata": {
    "kernelspec": {
      "display_name": "Python 3",
      "language": "python",
      "name": "python3"
    },
    "language_info": {
      "codemirror_mode": {
        "name": "ipython",
        "version": 3
      },
      "file_extension": ".py",
      "mimetype": "text/x-python",
      "name": "python",
      "nbconvert_exporter": "python",
      "pygments_lexer": "ipython3",
      "version": "3.8.5"
    },
    "colab": {
      "name": "Project-2.ipynb",
      "provenance": [],
      "collapsed_sections": []
    }
  },
  "cells": [
    {
      "cell_type": "code",
      "metadata": {
        "id": "rC-6sI4M3djX"
      },
      "source": [
        "# ENTER YOUR NAME AND ID HERE\n",
        "# Yonghwan Kim A11746276"
      ],
      "execution_count": 17,
      "outputs": []
    },
    {
      "cell_type": "markdown",
      "metadata": {
        "id": "VTHiCL3r3dja"
      },
      "source": [
        "# Project-2: Locality Sensitive Hashing"
      ]
    },
    {
      "cell_type": "code",
      "metadata": {
        "id": "m0eVr9-n3djb"
      },
      "source": [
        "import random\n",
        "import os\n",
        "import numpy as np\n",
        "import re\n",
        "\n",
        "from random import randrange\n",
        "from shutil import copyfile\n",
        "from collections import defaultdict"
      ],
      "execution_count": 18,
      "outputs": []
    },
    {
      "cell_type": "markdown",
      "metadata": {
        "id": "AuS7rtL73djc"
      },
      "source": [
        "Suspicious datasets for this project will be in <b>Suspicious</b> directory\n",
        "\n",
        "\n",
        "Your query datasets will be in <b>Original</b> directory\n",
        "\n",
        "\n",
        "You have to use any one original Wikipedia article from <b>Original</b> for <b>Fact Checks</b> steps"
      ]
    },
    {
      "cell_type": "code",
      "metadata": {
        "id": "ejaejX8S3djc",
        "colab": {
          "base_uri": "https://localhost:8080/"
        },
        "outputId": "5aedc35d-3713-4f7c-8f8a-d04ef6840cd7"
      },
      "source": [
        "from google.colab import drive\n",
        "drive.mount('/content/drive')"
      ],
      "execution_count": 19,
      "outputs": [
        {
          "output_type": "stream",
          "name": "stdout",
          "text": [
            "Drive already mounted at /content/drive; to attempt to forcibly remount, call drive.mount(\"/content/drive\", force_remount=True).\n"
          ]
        }
      ]
    },
    {
      "cell_type": "code",
      "metadata": {
        "id": "Enh2WpPEmxdl"
      },
      "source": [
        "# Original Directory\n",
        "originalAll = '/content/drive/My Drive/Project2/Original'\n",
        "# Suspicious Directory\n",
        "suspicious = '/content/drive/My Drive/Project2/Suspicious'"
      ],
      "execution_count": 20,
      "outputs": []
    },
    {
      "cell_type": "markdown",
      "metadata": {
        "id": "bp7S0j4W3djd"
      },
      "source": [
        "### STEP - 1: Shingling (20 points)"
      ]
    },
    {
      "cell_type": "code",
      "metadata": {
        "id": "63Ik0iNY3djd"
      },
      "source": [
        "# Type your code here... \n",
        "# Create necessary number of cells below this cell\n",
        "k = 3\n",
        "# NOTE: No complex text processing is required\n",
        "# convert just upper case characters to lower case\n",
        "\n",
        "# sort suspicious file names\n",
        "susFiles = sorted(os.listdir(suspicious))\n",
        "# sort original file names\n",
        "orgFiles = sorted(os.listdir(originalAll))\n",
        "\n",
        "## shigling seperated by file\n",
        "def shinglingFunc(gram, dir):\n",
        "    # retrieve file names from directory\n",
        "    filelist = os.listdir(dir)\n",
        "    # A list for shingles\n",
        "    shingleList = []\n",
        "    # Open files\n",
        "    for f in sorted(filelist):\n",
        "        with open(os.path.join(dir, f), \"r\", encoding = \"ISO-8859-1\") as fileOrg: # open a file with encoding ISO-8859-1 to recover broken Unicode.\n",
        "            i = 0\n",
        "            all = \"\"\n",
        "            fileShingle = [] # Shingles from a document\n",
        "            for line in fileOrg: # A line from a document\n",
        "                if not line is \"\\n\":\n",
        "                    all = all + str(line)\n",
        "            all = all.lower().replace(\"\\n\", \" \").replace(\"\\t\", \"\") # change all to lower case and remove next lines and tabs\n",
        "            all = re.sub('[^a-z0-9 ]+', '', all) # remove special characters to increase matching rate later\n",
        "            singleList = all.split(\" \") # extract words from a line\n",
        "            singleList = [x.strip(' ') for x in singleList]\n",
        "            singleList = list(filter(None, singleList)) # remove shingles contain nothing\n",
        "            gard = True # gard value to escape loop\n",
        "            index = 0\n",
        "            counter = 0\n",
        "            while gard:\n",
        "                # end of the list, escape loop\n",
        "                if index == len(singleList)-gram:\n",
        "                    gard = False\n",
        "                counter = index\n",
        "                shingle = []\n",
        "                for i in range(gram):\n",
        "                    shingle.append(singleList[counter])\n",
        "                    counter = counter + 1\n",
        "                fileShingle.append(tuple(shingle))\n",
        "                index = index + 1\n",
        "            shingleList.append(set(fileShingle)) # change list to set to remove duplicates\n",
        "    return shingleList"
      ],
      "execution_count": 21,
      "outputs": []
    },
    {
      "cell_type": "code",
      "metadata": {
        "id": "Hwbau8WnWFqo"
      },
      "source": [
        "# function to combine all shingles from each documents\n",
        "def findUniqueShingle(shingles):\n",
        "    uniqueSets = set()\n",
        "    for u in shingles:\n",
        "        uniqueSets = uniqueSets.union(u)\n",
        "    return uniqueSets\n",
        "# print the number of unique shingles\n",
        "def printShingles(uniqueShingleList):\n",
        "    print(len(uniqueShingleList))"
      ],
      "execution_count": 22,
      "outputs": []
    },
    {
      "cell_type": "code",
      "metadata": {
        "id": "o7_lo9P73dje",
        "colab": {
          "base_uri": "https://localhost:8080/"
        },
        "outputId": "e434c44b-5922-4a7e-8610-c6c03dbba528"
      },
      "source": [
        "# 3 grams, k = 3\n",
        "threegram = shinglingFunc(k, suspicious)\n",
        "uniqueThreegram = findUniqueShingle(threegram)\n",
        "print(\"k=3\")\n",
        "printShingles(uniqueThreegram)\n",
        "# 4 grams, k = 4\n",
        "fourgram = shinglingFunc(k+1, suspicious)\n",
        "uniqueFourgram = findUniqueShingle(fourgram)\n",
        "print(\"k=4\")\n",
        "printShingles(uniqueFourgram)\n",
        "# 5 grams, k = 5\n",
        "fivegram = shinglingFunc(k+2, suspicious)\n",
        "uniqueFivegram = findUniqueShingle(fivegram)\n",
        "print(\"k=5\")\n",
        "printShingles(uniqueFivegram)"
      ],
      "execution_count": 23,
      "outputs": [
        {
          "output_type": "stream",
          "name": "stdout",
          "text": [
            "k=3\n",
            "12866\n",
            "k=4\n",
            "14383\n",
            "k=5\n",
            "15071\n"
          ]
        }
      ]
    },
    {
      "cell_type": "raw",
      "metadata": {
        "id": "jqlT66H43dje"
      },
      "source": [
        "Report results (number of unique k-shingles) for k={3,4,5} below:\n",
        "1. k=3: 12866\n",
        "2. k=4: 14383\n",
        "3. k=5: 15071"
      ]
    },
    {
      "cell_type": "code",
      "metadata": {
        "id": "g0df3vhZ3dje"
      },
      "source": [
        "# Type your code to get the 5-shingle index here\n",
        "# function indexing 5 grams shingle list\n",
        "def creatIndex(shigleList):\n",
        "    fiveGdict = dict()\n",
        "    index = 0\n",
        "    for shingle in shigleList:\n",
        "        fiveGdict[index] = shingle\n",
        "        index = index + 1\n",
        "    return fiveGdict\n",
        "\n",
        "fivegramIndex = creatIndex(uniqueFivegram)"
      ],
      "execution_count": 24,
      "outputs": []
    },
    {
      "cell_type": "markdown",
      "metadata": {
        "id": "MByoF2pT3djf"
      },
      "source": [
        "### STEP - 2: Min-Hashing (40 points)"
      ]
    },
    {
      "cell_type": "code",
      "metadata": {
        "id": "PRtAX6Gp3djg"
      },
      "source": [
        "# ***************************************************NEW***********************************************************\n",
        "# Generate Hash functions - \n",
        "    # We use (ax + b) mod N formula to permute shingle index\n",
        "    # where a,b are random numbers, N total index size, and x is the index\n",
        "# We need to do L permutations - In other words we need to have L permutations (lists) of new indexes\n",
        "# Following function takes total index size N and L as arguments\n",
        "    # And returns L new lists of size N\n",
        "    \n",
        "def get_hash_functions(N,L):\n",
        "    hash_functions = []\n",
        "    \n",
        "    for itr in range(L):\n",
        "        a=randrange(1,400)\n",
        "        b=randrange(1,400)\n",
        "        \n",
        "        new_hash_function = []\n",
        "        for i in range(N):\n",
        "            new_hash_function.append((a * i + b) % N)\n",
        "        \n",
        "        hash_functions.append(new_hash_function)\n",
        "    return hash_functions\n",
        "\n",
        "# test\n",
        "# hash_functions = get_hash_functions(5000,50)\n",
        "# print(hash_functions)"
      ],
      "execution_count": 25,
      "outputs": []
    },
    {
      "cell_type": "code",
      "metadata": {
        "id": "IXVR4hqV3djg"
      },
      "source": [
        "# Type your code here to generate all L hash functions\n",
        "# Generate hash functions only for shingle index created for k=5\n",
        "L = 50\n",
        "\n",
        "total = len(uniqueFivegram)\n",
        "hashOf50 = get_hash_functions(total, L) # 50 permutations\n",
        "hashOf100 = get_hash_functions(total, L + 50) # 100 permutations\n",
        "hashOf200 = get_hash_functions(total, L + 150) # 200 permutations\n",
        "hashOf500 = get_hash_functions(total, L + 450) # 500 permutations\n",
        "hashOf1000 = get_hash_functions(total, L + 950) # 1000 permutations\n",
        "hashs = [hashOf50, hashOf100, hashOf200, hashOf500, hashOf1000] # list of each permutations"
      ],
      "execution_count": 26,
      "outputs": []
    },
    {
      "cell_type": "code",
      "metadata": {
        "id": "_mIS8TZA3djg"
      },
      "source": [
        "# Type your code here to get the final signature matrix S here\n",
        "\n",
        "# signature matrix generater taking permutations, 5 shingle indexes and 5 shingle list for each document\n",
        "def signatureMatrix(hash, fivegramIndex, documents):\n",
        "    S = np.full(( len(hash), len(documents) ), np.inf) # create a matrix containing infinite, ex) row (hash) 50, column (documents) 95\n",
        "    column = 0\n",
        "    for doc in documents:\n",
        "        inputMat = [0]*len(fivegramIndex) # initialize one input matrix of one document, row (shingles), column (documents)\n",
        "        for k, v in fivegramIndex.items():\n",
        "            sv = {v}\n",
        "            if sv.issubset(doc): # if match save 1\n",
        "                inputMat[k] = 1\n",
        "        # with one input matrix, create a signature matrix for the document\n",
        "        for j in range(len(inputMat)):\n",
        "            if inputMat[j] == 1:\n",
        "                row = 0\n",
        "                for h in hash:\n",
        "                    if h[j] < S[row][column]:\n",
        "                        S[row][column] = h[j]\n",
        "                    row = row + 1\n",
        "        column = column + 1\n",
        "    return S"
      ],
      "execution_count": 27,
      "outputs": []
    },
    {
      "cell_type": "code",
      "metadata": {
        "id": "reWPqwh63djh",
        "colab": {
          "base_uri": "https://localhost:8080/"
        },
        "outputId": "db73c6ad-0c7a-49d7-f063-6df31ea3d596"
      },
      "source": [
        "# Type your code here to do the fact check \n",
        "#      with any one query document in the 'Original' directory\n",
        "\n",
        "original = 'Original/orig_taskc.txt'\n",
        "\n",
        "# STEP-1: Generate 5-shingles \n",
        "    # (if any shingles are not present in your shingle index, simply ignore them)\n",
        "\n",
        "# Generate 5-shingles for Original files\n",
        "originalFivegram = shinglingFunc(k+2, originalAll)\n",
        "uniqueOriginalFivegram = findUniqueShingle(originalFivegram)\n",
        "    \n",
        "# STEP-2: Generate signature vector from L hash functions\n",
        "\n",
        "# Suspicious signature matrix\n",
        "sigMatrices = []\n",
        "\n",
        "for permut in hashs:\n",
        "    sigMatrices.append(signatureMatrix(permut, fivegramIndex, fivegram))\n",
        "\n",
        "# Original signature matrix\n",
        "sigMatricesOrg = []\n",
        "\n",
        "for permut in hashs:\n",
        "    sigMatricesOrg.append(signatureMatrix(permut, fivegramIndex, originalFivegram))\n",
        "\n",
        "# STEP-3: Calculate Jaccard similarity of signature vector of orginal doc.\n",
        "    # and all other documents \n",
        "\n",
        "# Threshold value\n",
        "t = 0.85\n",
        "\n",
        "# function to calculate jaccard similarity\n",
        "def jaccardSim(susSig, origSig, ind, t):\n",
        "    simCount_x = 0\n",
        "    simCount_y = 0\n",
        "    for c in range(len(origSig)):\n",
        "        if susSig[c] == origSig[c]:\n",
        "            simCount_x = simCount_x + 1\n",
        "        elif susSig[c] != origSig[c]:\n",
        "            simCount_y = simCount_y + 1\n",
        "    sim = simCount_x/(simCount_x+simCount_y)\n",
        "    if sim > t: # return similiarty value over the threshold point\n",
        "        return [sim, ind]\n",
        "    else:\n",
        "        return []\n",
        "        \n",
        "# STEP-4: Facts Checks\n",
        "# For each L = {50,100,200,500,1000}, report all documents (file_names) below that have Jaccard similarity > t=0.85\n",
        "# Sort the documents in decreasing order of the Jaccard similarity\n",
        "\n",
        "# find documents that has simiiliarty over 0.85\n",
        "for c in range(len(sigMatricesOrg)):\n",
        "    print(\"Original file: \", orgFiles[c]) # name of the original file\n",
        "    for i, h in enumerate(hashs):\n",
        "        print(\"Hash: \", len(h)) # Hash L's length\n",
        "        matchDoc = []\n",
        "        for ind in range(len(sigMatrices[i][i])):\n",
        "            match = jaccardSim(sigMatrices[i][:, ind], sigMatricesOrg[i][:, c], susFiles[ind], t)\n",
        "            if match:\n",
        "                matchDoc.append(match)\n",
        "        matchDoc = sorted(matchDoc, reverse=True) # sort by similarity value in decreasing order\n",
        "        for md in matchDoc:\n",
        "           print(\"Suspicious file: \", md[1], \" similarity:\", md[0]) # name of the suspicious file\n",
        "    print()"
      ],
      "execution_count": 28,
      "outputs": [
        {
          "output_type": "stream",
          "name": "stdout",
          "text": [
            "Original file:  orig_taska.txt\n",
            "Hash:  50\n",
            "Suspicious file:  g4pC_taska.txt  similarity: 0.88\n",
            "Hash:  100\n",
            "Suspicious file:  g0pE_taska.txt  similarity: 0.93\n",
            "Suspicious file:  g4pC_taska.txt  similarity: 0.88\n",
            "Hash:  200\n",
            "Suspicious file:  g0pE_taska.txt  similarity: 0.865\n",
            "Hash:  500\n",
            "Suspicious file:  g0pE_taska.txt  similarity: 0.888\n",
            "Hash:  1000\n",
            "Suspicious file:  g0pE_taska.txt  similarity: 0.885\n",
            "Suspicious file:  g4pC_taska.txt  similarity: 0.857\n",
            "\n",
            "Original file:  orig_taskb.txt\n",
            "Hash:  50\n",
            "Hash:  100\n",
            "Hash:  200\n",
            "Hash:  500\n",
            "Hash:  1000\n",
            "\n",
            "Original file:  orig_taskc.txt\n",
            "Hash:  50\n",
            "Hash:  100\n",
            "Hash:  200\n",
            "Hash:  500\n",
            "Hash:  1000\n",
            "\n",
            "Original file:  orig_taskd.txt\n",
            "Hash:  50\n",
            "Suspicious file:  g3pA_taskd.txt  similarity: 0.94\n",
            "Hash:  100\n",
            "Suspicious file:  g3pA_taskd.txt  similarity: 0.95\n",
            "Hash:  200\n",
            "Suspicious file:  g3pA_taskd.txt  similarity: 0.95\n",
            "Hash:  500\n",
            "Suspicious file:  g3pA_taskd.txt  similarity: 0.966\n",
            "Hash:  1000\n",
            "Suspicious file:  g3pA_taskd.txt  similarity: 0.963\n",
            "\n",
            "Original file:  orig_taske.txt\n",
            "Hash:  50\n",
            "Hash:  100\n",
            "Hash:  200\n",
            "Hash:  500\n",
            "Hash:  1000\n",
            "\n"
          ]
        }
      ]
    },
    {
      "cell_type": "markdown",
      "metadata": {
        "id": "yOvixMDR3dji"
      },
      "source": [
        "### STEP - 3: LSH (30 points)"
      ]
    },
    {
      "cell_type": "code",
      "metadata": {
        "id": "ROx3hSop3dji"
      },
      "source": [
        "# Type your code here to hash signature matrix into B buckets\n",
        "# Use the technique to split the signature matrix into b bands of r rows\n",
        "# Convert only the signature matrix generated with L=1000\n",
        "\n",
        "b = 50 # bands\n",
        "r = 20 # rows per band\n",
        "B = 199 # buckets\n",
        "\n",
        "# Suspicious signature with only L = 1000\n",
        "susSigL1000 = sigMatrices[4]\n",
        "# Original signature with only L = 1000\n",
        "orgSigL1000 = sigMatricesOrg[4]\n",
        "\n",
        "# make a random list for hashing\n",
        "def randomRowList(r):\n",
        "    randomlist = random.sample(range(1,r+1), r)\n",
        "    return randomlist\n",
        "\n",
        "# seperate a matrix into n band size\n",
        "def slicingToBand(matrix, bandSize):\n",
        "    bands = np.array_split(matrix, bandSize)\n",
        "    return bands\n",
        "\n",
        "# hashing into each bucket\n",
        "def bucketHashing(bands, B, randList, index):\n",
        "    hashbuckets = defaultdict(set) # a dictionary with sets inside\n",
        "\n",
        "    for i,band in enumerate(bands):\n",
        "        bandInd = tuple(list(band[:,index])) # one band\n",
        "        col = []\n",
        "        for x, row in enumerate(bandInd): # rows of a band\n",
        "            col.append(row * randList[x]) # each row * ai\n",
        "        sigma = sum(col) # add every data\n",
        "        h = sigma % B # sigma mod 199\n",
        "        hashbuckets[int(h)].add(i) # add to proper bucket\n",
        "    return hashbuckets"
      ],
      "execution_count": 29,
      "outputs": []
    },
    {
      "cell_type": "code",
      "metadata": {
        "id": "b4q9xT7d3dji"
      },
      "source": [
        "# Type your code here to do generate candidate documents\n",
        "# Follow all steps from STEP - 2 fact check (except the Jaccard similarity part)\n",
        "\n",
        "# STEP - 1: Split each original document signature vector into b bands of r rows\n",
        "\n",
        "# generate random list for hasing\n",
        "rlist = randomRowList(r)\n",
        "# generate bands for original signature\n",
        "orgBands = slicingToBand(orgSigL1000, b)\n",
        "# generate bands for suspicious signature\n",
        "susBands = slicingToBand(susSigL1000, b)\n",
        "\n",
        "# initialize candidate pair in dictionary list\n",
        "candidatePair = defaultdict(list)\n",
        "\n",
        "for orgdoc in range(len(orgSigL1000[0])):\n",
        "    orgBucket = bucketHashing(orgBands, B, rlist, orgdoc) # an orignial bucket\n",
        "    for susdoc in range(len(susSigL1000[0])):\n",
        "        susBucket = bucketHashing(susBands, B, rlist, susdoc) # a suspicious bucket\n",
        "        for bi in range(B):\n",
        "            if len(orgBucket[bi]) != 0 and len(susBucket[bi]) != 0: # both side is not empty\n",
        "                if orgBucket[bi].intersection(susBucket[bi]): # if they have (a) same band numbers\n",
        "                    candidatePair[orgdoc].append(susdoc) # add to candidate pair list\n",
        "                    break # found one pair, no need to search further\n",
        "\n",
        "# STEP - 2: Hash using the same hash functions created for \n",
        "    # signature matrix hashing (in the previous cell)\n",
        "\n",
        "# create candidate signature matrices with same hash function of L=1000\n",
        "candidSigMatrices = []\n",
        "candidSigMatrices.append(signatureMatrix(hashs[4], fivegramIndex, fivegram))\n",
        "\n",
        "candidSigMatricesOrg = []\n",
        "candidSigMatricesOrg.append(signatureMatrix(hashs[4], fivegramIndex, originalFivegram))"
      ],
      "execution_count": 30,
      "outputs": []
    },
    {
      "cell_type": "code",
      "metadata": {
        "id": "H26sKf4S3dji",
        "colab": {
          "base_uri": "https://localhost:8080/"
        },
        "outputId": "47c659d0-7b8d-45ea-800f-20590a754a90"
      },
      "source": [
        "# Type your code here to do the fact check\n",
        "# Calculate Jaccard similarity of the oiginal document with only \n",
        "    # candidate documents\n",
        "\n",
        "# jaccard similarity with only cadidate documents\n",
        "for c in range(len(candidatePair)):\n",
        "    print(\"-----------------------------------------------------------\")\n",
        "    print(\"Original file: \", orgFiles[c])\n",
        "    matchDoc = []\n",
        "    for ind in candidatePair[c]:\n",
        "        match = jaccardSim(candidSigMatrices[0][:, ind], candidSigMatricesOrg[0][:, c], susFiles[ind], t)\n",
        "        if match:\n",
        "            matchDoc.append(match)\n",
        "    matchDoc = sorted(matchDoc, reverse=True) # sort in decreasing order\n",
        "    for md in matchDoc:\n",
        "        print(\"Suspicious file: \", md[1], \" similarity:\", md[0])      \n",
        "    print(\"-----------------------------------------------------------\")"
      ],
      "execution_count": 31,
      "outputs": [
        {
          "output_type": "stream",
          "name": "stdout",
          "text": [
            "-----------------------------------------------------------\n",
            "Original file:  orig_taska.txt\n",
            "Suspicious file:  g0pE_taska.txt  similarity: 0.885\n",
            "Suspicious file:  g4pC_taska.txt  similarity: 0.857\n",
            "-----------------------------------------------------------\n",
            "-----------------------------------------------------------\n",
            "Original file:  orig_taskb.txt\n",
            "-----------------------------------------------------------\n",
            "-----------------------------------------------------------\n",
            "Original file:  orig_taskc.txt\n",
            "-----------------------------------------------------------\n",
            "-----------------------------------------------------------\n",
            "Original file:  orig_taskd.txt\n",
            "Suspicious file:  g3pA_taskd.txt  similarity: 0.963\n",
            "-----------------------------------------------------------\n",
            "-----------------------------------------------------------\n",
            "Original file:  orig_taske.txt\n",
            "-----------------------------------------------------------\n"
          ]
        }
      ]
    },
    {
      "cell_type": "code",
      "metadata": {
        "colab": {
          "base_uri": "https://localhost:8080/"
        },
        "id": "1yGRMA6UhASV",
        "outputId": "06bab73b-b4d4-4402-9f47-8694998729f0"
      },
      "source": [
        "# function to find false positives\n",
        "def falsePositive(susSig, origSig, ind, t):\n",
        "    simCount_x = 0\n",
        "    simCount_y = 0\n",
        "    for c in range(len(origSig)):\n",
        "        if susSig[c] == origSig[c]:\n",
        "            simCount_x = simCount_x + 1\n",
        "        elif susSig[c] != origSig[c]:\n",
        "            simCount_y = simCount_y + 1\n",
        "    sim = simCount_x/(simCount_x+simCount_y)\n",
        "    if sim <= t: # if candidate similarity is lesser or equal to 0.85, then it is fale positive\n",
        "        return [sim, ind, \"False Positive\"]\n",
        "\n",
        "numOfFalsePositive = 0  \n",
        "for c in range(len(candidatePair)):\n",
        "    print(\"-----------------------------------------------------------\")\n",
        "    print(\"Original file: \", orgFiles[c])\n",
        "    matchDoc = []\n",
        "    for ind in candidatePair[c]: # candidate documents\n",
        "        match = falsePositive(candidSigMatrices[0][:, ind], candidSigMatricesOrg[0][:, c], susFiles[ind], t)\n",
        "        if match:\n",
        "            matchDoc.append(match)\n",
        "    matchDoc = sorted(matchDoc, reverse=True)\n",
        "    numOfFalsePositive = numOfFalsePositive + len(matchDoc)\n",
        "    for md in matchDoc:\n",
        "        print(\"Suspicious file: \", md[1], \" similarity:\", md[0], \" \", md[2])\n",
        "    print(\"-----------------------------------------------------------\")\n",
        "print(\"Total Number of False Positives: \", numOfFalsePositive)"
      ],
      "execution_count": 36,
      "outputs": [
        {
          "output_type": "stream",
          "name": "stdout",
          "text": [
            "-----------------------------------------------------------\n",
            "Original file:  orig_taska.txt\n",
            "Suspicious file:  g1pD_taska.txt  similarity: 0.05   False Positive\n",
            "Suspicious file:  g2pC_taskd.txt  similarity: 0.013   False Positive\n",
            "Suspicious file:  g0pB_taskd.txt  similarity: 0.013   False Positive\n",
            "Suspicious file:  g3pA_taska.txt  similarity: 0.012   False Positive\n",
            "Suspicious file:  g4pD_taske.txt  similarity: 0.011   False Positive\n",
            "Suspicious file:  g4pC_taskd.txt  similarity: 0.009   False Positive\n",
            "Suspicious file:  g4pB_taskc.txt  similarity: 0.009   False Positive\n",
            "Suspicious file:  g2pB_taskd.txt  similarity: 0.009   False Positive\n",
            "Suspicious file:  g2pA_taskc.txt  similarity: 0.008   False Positive\n",
            "Suspicious file:  g1pA_taska.txt  similarity: 0.008   False Positive\n",
            "Suspicious file:  g0pD_taskb.txt  similarity: 0.008   False Positive\n",
            "Suspicious file:  g4pD_taskc.txt  similarity: 0.007   False Positive\n",
            "Suspicious file:  g1pA_taskb.txt  similarity: 0.007   False Positive\n",
            "Suspicious file:  g0pC_taskb.txt  similarity: 0.007   False Positive\n",
            "Suspicious file:  g0pB_taske.txt  similarity: 0.006   False Positive\n",
            "Suspicious file:  g2pA_taskd.txt  similarity: 0.005   False Positive\n",
            "Suspicious file:  g2pC_taskb.txt  similarity: 0.004   False Positive\n",
            "Suspicious file:  g1pB_taska.txt  similarity: 0.003   False Positive\n",
            "Suspicious file:  g0pA_taskb.txt  similarity: 0.002   False Positive\n",
            "Suspicious file:  g2pE_taske.txt  similarity: 0.001   False Positive\n",
            "-----------------------------------------------------------\n",
            "-----------------------------------------------------------\n",
            "Original file:  orig_taskb.txt\n",
            "Suspicious file:  g2pE_taskb.txt  similarity: 0.082   False Positive\n",
            "Suspicious file:  g4pD_taskb.txt  similarity: 0.014   False Positive\n",
            "Suspicious file:  g0pA_taska.txt  similarity: 0.014   False Positive\n",
            "Suspicious file:  g2pA_taske.txt  similarity: 0.011   False Positive\n",
            "Suspicious file:  g2pB_taske.txt  similarity: 0.008   False Positive\n",
            "Suspicious file:  g2pB_taskb.txt  similarity: 0.008   False Positive\n",
            "Suspicious file:  g4pD_taskc.txt  similarity: 0.007   False Positive\n",
            "Suspicious file:  g4pD_taska.txt  similarity: 0.007   False Positive\n",
            "Suspicious file:  g3pC_taskb.txt  similarity: 0.007   False Positive\n",
            "Suspicious file:  g4pB_taske.txt  similarity: 0.006   False Positive\n",
            "Suspicious file:  g1pA_taskc.txt  similarity: 0.006   False Positive\n",
            "Suspicious file:  g0pB_taske.txt  similarity: 0.006   False Positive\n",
            "Suspicious file:  g3pA_taskc.txt  similarity: 0.005   False Positive\n",
            "Suspicious file:  g0pC_taskd.txt  similarity: 0.005   False Positive\n",
            "Suspicious file:  g2pE_taskc.txt  similarity: 0.004   False Positive\n",
            "Suspicious file:  g1pD_taskc.txt  similarity: 0.004   False Positive\n",
            "Suspicious file:  g0pA_taskc.txt  similarity: 0.004   False Positive\n",
            "Suspicious file:  g4pE_taskd.txt  similarity: 0.003   False Positive\n",
            "Suspicious file:  g3pA_taska.txt  similarity: 0.003   False Positive\n",
            "Suspicious file:  g2pA_taskd.txt  similarity: 0.003   False Positive\n",
            "Suspicious file:  g0pB_taskc.txt  similarity: 0.003   False Positive\n",
            "Suspicious file:  g4pE_taskc.txt  similarity: 0.002   False Positive\n",
            "-----------------------------------------------------------\n",
            "-----------------------------------------------------------\n",
            "Original file:  orig_taskc.txt\n",
            "Suspicious file:  g0pB_taskc.txt  similarity: 0.516   False Positive\n",
            "Suspicious file:  g2pA_taskc.txt  similarity: 0.315   False Positive\n",
            "Suspicious file:  g1pB_taskc.txt  similarity: 0.067   False Positive\n",
            "Suspicious file:  g4pD_taskd.txt  similarity: 0.016   False Positive\n",
            "Suspicious file:  g0pB_taskd.txt  similarity: 0.015   False Positive\n",
            "Suspicious file:  g2pA_taska.txt  similarity: 0.014   False Positive\n",
            "Suspicious file:  g1pA_taska.txt  similarity: 0.008   False Positive\n",
            "Suspicious file:  g4pC_taske.txt  similarity: 0.007   False Positive\n",
            "Suspicious file:  g2pA_taskb.txt  similarity: 0.007   False Positive\n",
            "Suspicious file:  g1pD_taska.txt  similarity: 0.006   False Positive\n",
            "Suspicious file:  g4pD_taskb.txt  similarity: 0.005   False Positive\n",
            "Suspicious file:  g4pB_taskd.txt  similarity: 0.005   False Positive\n",
            "Suspicious file:  g3pB_taske.txt  similarity: 0.005   False Positive\n",
            "Suspicious file:  g3pB_taskb.txt  similarity: 0.005   False Positive\n",
            "Suspicious file:  g3pB_taska.txt  similarity: 0.005   False Positive\n",
            "Suspicious file:  g2pA_taskd.txt  similarity: 0.005   False Positive\n",
            "Suspicious file:  g0pD_taskb.txt  similarity: 0.005   False Positive\n",
            "Suspicious file:  g2pB_taskd.txt  similarity: 0.004   False Positive\n",
            "Suspicious file:  g2pB_taska.txt  similarity: 0.004   False Positive\n",
            "Suspicious file:  g1pD_taskc.txt  similarity: 0.004   False Positive\n",
            "Suspicious file:  g0pD_taska.txt  similarity: 0.004   False Positive\n",
            "Suspicious file:  g0pA_taske.txt  similarity: 0.004   False Positive\n",
            "Suspicious file:  g3pC_taskc.txt  similarity: 0.003   False Positive\n",
            "Suspicious file:  g3pB_taskd.txt  similarity: 0.003   False Positive\n",
            "Suspicious file:  g3pC_taske.txt  similarity: 0.002   False Positive\n",
            "Suspicious file:  g2pC_taskd.txt  similarity: 0.002   False Positive\n",
            "Suspicious file:  g1pB_taska.txt  similarity: 0.002   False Positive\n",
            "Suspicious file:  g4pD_taska.txt  similarity: 0.001   False Positive\n",
            "Suspicious file:  g4pB_taska.txt  similarity: 0.001   False Positive\n",
            "Suspicious file:  g3pC_taskb.txt  similarity: 0.001   False Positive\n",
            "Suspicious file:  g2pE_taska.txt  similarity: 0.001   False Positive\n",
            "Suspicious file:  g0pE_taskd.txt  similarity: 0.001   False Positive\n",
            "Suspicious file:  g0pC_taskd.txt  similarity: 0.001   False Positive\n",
            "Suspicious file:  g0pA_taskb.txt  similarity: 0.0   False Positive\n",
            "-----------------------------------------------------------\n",
            "-----------------------------------------------------------\n",
            "Original file:  orig_taskd.txt\n",
            "Suspicious file:  g2pC_taskd.txt  similarity: 0.101   False Positive\n",
            "Suspicious file:  g1pB_taskd.txt  similarity: 0.052   False Positive\n",
            "Suspicious file:  g3pC_taskd.txt  similarity: 0.024   False Positive\n",
            "Suspicious file:  g0pC_taska.txt  similarity: 0.011   False Positive\n",
            "Suspicious file:  g2pA_taskb.txt  similarity: 0.01   False Positive\n",
            "Suspicious file:  g4pD_taskb.txt  similarity: 0.008   False Positive\n",
            "Suspicious file:  g4pB_taskb.txt  similarity: 0.008   False Positive\n",
            "Suspicious file:  g0pE_taska.txt  similarity: 0.008   False Positive\n",
            "Suspicious file:  g2pB_taskc.txt  similarity: 0.007   False Positive\n",
            "Suspicious file:  g2pB_taskb.txt  similarity: 0.007   False Positive\n",
            "Suspicious file:  g4pD_taskc.txt  similarity: 0.006   False Positive\n",
            "Suspicious file:  g3pA_taskb.txt  similarity: 0.006   False Positive\n",
            "Suspicious file:  g0pE_taske.txt  similarity: 0.004   False Positive\n",
            "Suspicious file:  g4pC_taske.txt  similarity: 0.003   False Positive\n",
            "Suspicious file:  g2pE_taskc.txt  similarity: 0.003   False Positive\n",
            "Suspicious file:  g2pE_taskb.txt  similarity: 0.003   False Positive\n",
            "Suspicious file:  g4pD_taska.txt  similarity: 0.002   False Positive\n",
            "Suspicious file:  g2pC_taskc.txt  similarity: 0.002   False Positive\n",
            "-----------------------------------------------------------\n",
            "-----------------------------------------------------------\n",
            "Original file:  orig_taske.txt\n",
            "Suspicious file:  g1pB_taske.txt  similarity: 0.215   False Positive\n",
            "Suspicious file:  g0pE_taske.txt  similarity: 0.192   False Positive\n",
            "Suspicious file:  g4pD_taske.txt  similarity: 0.109   False Positive\n",
            "Suspicious file:  g4pB_taska.txt  similarity: 0.015   False Positive\n",
            "Suspicious file:  g0pC_taskc.txt  similarity: 0.013   False Positive\n",
            "Suspicious file:  g2pE_taske.txt  similarity: 0.011   False Positive\n",
            "Suspicious file:  g1pB_taska.txt  similarity: 0.01   False Positive\n",
            "Suspicious file:  g4pE_taskd.txt  similarity: 0.007   False Positive\n",
            "Suspicious file:  g4pD_taskd.txt  similarity: 0.002   False Positive\n",
            "Suspicious file:  g0pE_taskd.txt  similarity: 0.001   False Positive\n",
            "-----------------------------------------------------------\n",
            "Total Number of False Positives:  104\n"
          ]
        }
      ]
    },
    {
      "cell_type": "code",
      "metadata": {
        "colab": {
          "base_uri": "https://localhost:8080/"
        },
        "id": "yT28elvGlabn",
        "outputId": "0ff902e4-b527-4ca6-e4e7-988784b4eab7"
      },
      "source": [
        "# function to find false negatives (same as jaccard similarity function)\n",
        "def falseNegative(susSig, origSig, ind, t):\n",
        "    simCount_x = 0\n",
        "    simCount_y = 0\n",
        "    for c in range(len(origSig)):\n",
        "        if susSig[c] == origSig[c]:\n",
        "            simCount_x = simCount_x + 1\n",
        "        elif susSig[c] != origSig[c]:\n",
        "            simCount_y = simCount_y + 1\n",
        "    sim = simCount_x/(simCount_x+simCount_y)\n",
        "    if sim > t:\n",
        "        return [sim, ind, \"False Negative\"]\n",
        "\n",
        "# find non candidate pairs to find false negatives\n",
        "noncandidatePair = defaultdict(list)\n",
        "for c in candidatePair:\n",
        "    for rn in range(len(susFiles)):\n",
        "        if rn not in candidatePair[c]:\n",
        "            noncandidatePair[c].append(rn)\n",
        "numOfFalseNegatives = 0\n",
        "# run a test with non candidate pairs which has higher similarty over 0.85\n",
        "for c in range(len(noncandidatePair)):\n",
        "    print(\"---------------------------------------------------------------------\")\n",
        "    print(\"Original file: \", orgFiles[c])\n",
        "    matchDoc = []\n",
        "    for ind in noncandidatePair[c]:\n",
        "        match = falseNegative(candidSigMatrices[0][:, ind], candidSigMatricesOrg[0][:, c], susFiles[ind], t)\n",
        "        if match:\n",
        "            matchDoc.append(match)\n",
        "    matchDoc = sorted(matchDoc, reverse=True)\n",
        "    numOfFalseNegatives = numOfFalseNegatives + len(matchDoc)\n",
        "    for md in matchDoc:\n",
        "        print(\"Suspicious file: \", md[1], \" similarity:\", md[0], \" \", md[2])      \n",
        "    print(\"---------------------------------------------------------------------\")\n",
        "print(\"Total Number of False Negatives: \", numOfFalseNegatives)"
      ],
      "execution_count": 37,
      "outputs": [
        {
          "output_type": "stream",
          "name": "stdout",
          "text": [
            "---------------------------------------------------------------------\n",
            "Original file:  orig_taska.txt\n",
            "---------------------------------------------------------------------\n",
            "---------------------------------------------------------------------\n",
            "Original file:  orig_taskb.txt\n",
            "---------------------------------------------------------------------\n",
            "---------------------------------------------------------------------\n",
            "Original file:  orig_taskc.txt\n",
            "---------------------------------------------------------------------\n",
            "---------------------------------------------------------------------\n",
            "Original file:  orig_taskd.txt\n",
            "---------------------------------------------------------------------\n",
            "---------------------------------------------------------------------\n",
            "Original file:  orig_taske.txt\n",
            "---------------------------------------------------------------------\n",
            "Total Number of False Negatives:  0\n"
          ]
        }
      ]
    },
    {
      "cell_type": "raw",
      "metadata": {
        "id": "BsX_vsYe3djj"
      },
      "source": [
        "Report all documents (file_names) below that have Jaccard similarity > t=0.85\n",
        "Sort the documents in decreasing order of the Jaccard similarity\n"
      ]
    },
    {
      "cell_type": "code",
      "metadata": {
        "id": "b3rNfP9s3djj"
      },
      "source": [
        "# sorted in decreasing order by similarity > t=0.85 based on each original files\n",
        "# -----------------------------------------------------------\n",
        "# Original file:  orig_taska.txt\n",
        "# Suspicious file:  g0pE_taska.txt  similarity: 0.917\n",
        "# -----------------------------------------------------------\n",
        "# -----------------------------------------------------------\n",
        "# Original file:  orig_taskb.txt\n",
        "# -----------------------------------------------------------\n",
        "# -----------------------------------------------------------\n",
        "# Original file:  orig_taskc.txt\n",
        "# -----------------------------------------------------------\n",
        "# -----------------------------------------------------------\n",
        "# Original file:  orig_taskd.txt\n",
        "# Suspicious file:  g3pA_taskd.txt  similarity: 0.959\n",
        "# -----------------------------------------------------------\n",
        "# -----------------------------------------------------------\n",
        "# Original file:  orig_taske.txt\n",
        "# -----------------------------------------------------------"
      ],
      "execution_count": 34,
      "outputs": []
    },
    {
      "cell_type": "raw",
      "metadata": {
        "id": "oZ6voXGx3djj"
      },
      "source": [
        "Report the list of false positives and false negatives below\n",
        "\n"
      ]
    },
    {
      "cell_type": "code",
      "metadata": {
        "id": "OGzBd5cF3djj"
      },
      "source": [
        "# False positives: 104\n",
        "# -----------------------------------------------------------\n",
        "# Original file:  orig_taska.txt\n",
        "# Suspicious file:  g1pD_taska.txt  similarity: 0.05   False Positive\n",
        "# Suspicious file:  g2pC_taskd.txt  similarity: 0.013   False Positive\n",
        "# Suspicious file:  g0pB_taskd.txt  similarity: 0.013   False Positive\n",
        "# Suspicious file:  g3pA_taska.txt  similarity: 0.012   False Positive\n",
        "# Suspicious file:  g4pD_taske.txt  similarity: 0.011   False Positive\n",
        "# Suspicious file:  g4pC_taskd.txt  similarity: 0.009   False Positive\n",
        "# Suspicious file:  g4pB_taskc.txt  similarity: 0.009   False Positive\n",
        "# Suspicious file:  g2pB_taskd.txt  similarity: 0.009   False Positive\n",
        "# Suspicious file:  g2pA_taskc.txt  similarity: 0.008   False Positive\n",
        "# Suspicious file:  g1pA_taska.txt  similarity: 0.008   False Positive\n",
        "# Suspicious file:  g0pD_taskb.txt  similarity: 0.008   False Positive\n",
        "# Suspicious file:  g4pD_taskc.txt  similarity: 0.007   False Positive\n",
        "# Suspicious file:  g1pA_taskb.txt  similarity: 0.007   False Positive\n",
        "# Suspicious file:  g0pC_taskb.txt  similarity: 0.007   False Positive\n",
        "# Suspicious file:  g0pB_taske.txt  similarity: 0.006   False Positive\n",
        "# Suspicious file:  g2pA_taskd.txt  similarity: 0.005   False Positive\n",
        "# Suspicious file:  g2pC_taskb.txt  similarity: 0.004   False Positive\n",
        "# Suspicious file:  g1pB_taska.txt  similarity: 0.003   False Positive\n",
        "# Suspicious file:  g0pA_taskb.txt  similarity: 0.002   False Positive\n",
        "# Suspicious file:  g2pE_taske.txt  similarity: 0.001   False Positive\n",
        "# -----------------------------------------------------------\n",
        "# -----------------------------------------------------------\n",
        "# Original file:  orig_taskb.txt\n",
        "# Suspicious file:  g2pE_taskb.txt  similarity: 0.082   False Positive\n",
        "# Suspicious file:  g4pD_taskb.txt  similarity: 0.014   False Positive\n",
        "# Suspicious file:  g0pA_taska.txt  similarity: 0.014   False Positive\n",
        "# Suspicious file:  g2pA_taske.txt  similarity: 0.011   False Positive\n",
        "# Suspicious file:  g2pB_taske.txt  similarity: 0.008   False Positive\n",
        "# Suspicious file:  g2pB_taskb.txt  similarity: 0.008   False Positive\n",
        "# Suspicious file:  g4pD_taskc.txt  similarity: 0.007   False Positive\n",
        "# Suspicious file:  g4pD_taska.txt  similarity: 0.007   False Positive\n",
        "# Suspicious file:  g3pC_taskb.txt  similarity: 0.007   False Positive\n",
        "# Suspicious file:  g4pB_taske.txt  similarity: 0.006   False Positive\n",
        "# Suspicious file:  g1pA_taskc.txt  similarity: 0.006   False Positive\n",
        "# Suspicious file:  g0pB_taske.txt  similarity: 0.006   False Positive\n",
        "# Suspicious file:  g3pA_taskc.txt  similarity: 0.005   False Positive\n",
        "# Suspicious file:  g0pC_taskd.txt  similarity: 0.005   False Positive\n",
        "# Suspicious file:  g2pE_taskc.txt  similarity: 0.004   False Positive\n",
        "# Suspicious file:  g1pD_taskc.txt  similarity: 0.004   False Positive\n",
        "# Suspicious file:  g0pA_taskc.txt  similarity: 0.004   False Positive\n",
        "# Suspicious file:  g4pE_taskd.txt  similarity: 0.003   False Positive\n",
        "# Suspicious file:  g3pA_taska.txt  similarity: 0.003   False Positive\n",
        "# Suspicious file:  g2pA_taskd.txt  similarity: 0.003   False Positive\n",
        "# Suspicious file:  g0pB_taskc.txt  similarity: 0.003   False Positive\n",
        "# Suspicious file:  g4pE_taskc.txt  similarity: 0.002   False Positive\n",
        "# -----------------------------------------------------------\n",
        "# -----------------------------------------------------------\n",
        "# Original file:  orig_taskc.txt\n",
        "# Suspicious file:  g0pB_taskc.txt  similarity: 0.516   False Positive\n",
        "# Suspicious file:  g2pA_taskc.txt  similarity: 0.315   False Positive\n",
        "# Suspicious file:  g1pB_taskc.txt  similarity: 0.067   False Positive\n",
        "# Suspicious file:  g4pD_taskd.txt  similarity: 0.016   False Positive\n",
        "# Suspicious file:  g0pB_taskd.txt  similarity: 0.015   False Positive\n",
        "# Suspicious file:  g2pA_taska.txt  similarity: 0.014   False Positive\n",
        "# Suspicious file:  g1pA_taska.txt  similarity: 0.008   False Positive\n",
        "# Suspicious file:  g4pC_taske.txt  similarity: 0.007   False Positive\n",
        "# Suspicious file:  g2pA_taskb.txt  similarity: 0.007   False Positive\n",
        "# Suspicious file:  g1pD_taska.txt  similarity: 0.006   False Positive\n",
        "# Suspicious file:  g4pD_taskb.txt  similarity: 0.005   False Positive\n",
        "# Suspicious file:  g4pB_taskd.txt  similarity: 0.005   False Positive\n",
        "# Suspicious file:  g3pB_taske.txt  similarity: 0.005   False Positive\n",
        "# Suspicious file:  g3pB_taskb.txt  similarity: 0.005   False Positive\n",
        "# Suspicious file:  g3pB_taska.txt  similarity: 0.005   False Positive\n",
        "# Suspicious file:  g2pA_taskd.txt  similarity: 0.005   False Positive\n",
        "# Suspicious file:  g0pD_taskb.txt  similarity: 0.005   False Positive\n",
        "# Suspicious file:  g2pB_taskd.txt  similarity: 0.004   False Positive\n",
        "# Suspicious file:  g2pB_taska.txt  similarity: 0.004   False Positive\n",
        "# Suspicious file:  g1pD_taskc.txt  similarity: 0.004   False Positive\n",
        "# Suspicious file:  g0pD_taska.txt  similarity: 0.004   False Positive\n",
        "# Suspicious file:  g0pA_taske.txt  similarity: 0.004   False Positive\n",
        "# Suspicious file:  g3pC_taskc.txt  similarity: 0.003   False Positive\n",
        "# Suspicious file:  g3pB_taskd.txt  similarity: 0.003   False Positive\n",
        "# Suspicious file:  g3pC_taske.txt  similarity: 0.002   False Positive\n",
        "# Suspicious file:  g2pC_taskd.txt  similarity: 0.002   False Positive\n",
        "# Suspicious file:  g1pB_taska.txt  similarity: 0.002   False Positive\n",
        "# Suspicious file:  g4pD_taska.txt  similarity: 0.001   False Positive\n",
        "# Suspicious file:  g4pB_taska.txt  similarity: 0.001   False Positive\n",
        "# Suspicious file:  g3pC_taskb.txt  similarity: 0.001   False Positive\n",
        "# Suspicious file:  g2pE_taska.txt  similarity: 0.001   False Positive\n",
        "# Suspicious file:  g0pE_taskd.txt  similarity: 0.001   False Positive\n",
        "# Suspicious file:  g0pC_taskd.txt  similarity: 0.001   False Positive\n",
        "# Suspicious file:  g0pA_taskb.txt  similarity: 0.0   False Positive\n",
        "# -----------------------------------------------------------\n",
        "# -----------------------------------------------------------\n",
        "# Original file:  orig_taskd.txt\n",
        "# Suspicious file:  g2pC_taskd.txt  similarity: 0.101   False Positive\n",
        "# Suspicious file:  g1pB_taskd.txt  similarity: 0.052   False Positive\n",
        "# Suspicious file:  g3pC_taskd.txt  similarity: 0.024   False Positive\n",
        "# Suspicious file:  g0pC_taska.txt  similarity: 0.011   False Positive\n",
        "# Suspicious file:  g2pA_taskb.txt  similarity: 0.01   False Positive\n",
        "# Suspicious file:  g4pD_taskb.txt  similarity: 0.008   False Positive\n",
        "# Suspicious file:  g4pB_taskb.txt  similarity: 0.008   False Positive\n",
        "# Suspicious file:  g0pE_taska.txt  similarity: 0.008   False Positive\n",
        "# Suspicious file:  g2pB_taskc.txt  similarity: 0.007   False Positive\n",
        "# Suspicious file:  g2pB_taskb.txt  similarity: 0.007   False Positive\n",
        "# Suspicious file:  g4pD_taskc.txt  similarity: 0.006   False Positive\n",
        "# Suspicious file:  g3pA_taskb.txt  similarity: 0.006   False Positive\n",
        "# Suspicious file:  g0pE_taske.txt  similarity: 0.004   False Positive\n",
        "# Suspicious file:  g4pC_taske.txt  similarity: 0.003   False Positive\n",
        "# Suspicious file:  g2pE_taskc.txt  similarity: 0.003   False Positive\n",
        "# Suspicious file:  g2pE_taskb.txt  similarity: 0.003   False Positive\n",
        "# Suspicious file:  g4pD_taska.txt  similarity: 0.002   False Positive\n",
        "# Suspicious file:  g2pC_taskc.txt  similarity: 0.002   False Positive\n",
        "# -----------------------------------------------------------\n",
        "# -----------------------------------------------------------\n",
        "# Original file:  orig_taske.txt\n",
        "# Suspicious file:  g1pB_taske.txt  similarity: 0.215   False Positive\n",
        "# Suspicious file:  g0pE_taske.txt  similarity: 0.192   False Positive\n",
        "# Suspicious file:  g4pD_taske.txt  similarity: 0.109   False Positive\n",
        "# Suspicious file:  g4pB_taska.txt  similarity: 0.015   False Positive\n",
        "# Suspicious file:  g0pC_taskc.txt  similarity: 0.013   False Positive\n",
        "# Suspicious file:  g2pE_taske.txt  similarity: 0.011   False Positive\n",
        "# Suspicious file:  g1pB_taska.txt  similarity: 0.01   False Positive\n",
        "# Suspicious file:  g4pE_taskd.txt  similarity: 0.007   False Positive\n",
        "# Suspicious file:  g4pD_taskd.txt  similarity: 0.002   False Positive\n",
        "# Suspicious file:  g0pE_taskd.txt  similarity: 0.001   False Positive\n",
        "# -----------------------------------------------------------\n",
        "# Total Number of False Positives:  104\n",
        "\n",
        "\n",
        "# False Negatives: 0\n",
        "# ---------------------------------------------------------------------\n",
        "# Original file:  orig_taska.txt\n",
        "# ---------------------------------------------------------------------\n",
        "# ---------------------------------------------------------------------\n",
        "# Original file:  orig_taskb.txt\n",
        "# ---------------------------------------------------------------------\n",
        "# ---------------------------------------------------------------------\n",
        "# Original file:  orig_taskc.txt\n",
        "# ---------------------------------------------------------------------\n",
        "# ---------------------------------------------------------------------\n",
        "# Original file:  orig_taskd.txt\n",
        "# ---------------------------------------------------------------------\n",
        "# ---------------------------------------------------------------------\n",
        "# Original file:  orig_taske.txt\n",
        "# ---------------------------------------------------------------------\n",
        "# Total Number of False Negatives:  0"
      ],
      "execution_count": 35,
      "outputs": []
    }
  ]
}
{
  "nbformat": 4,
  "nbformat_minor": 0,
  "metadata": {
    "kernelspec": {
      "display_name": "Python 3",
      "language": "python",
      "name": "python3"
    },
    "language_info": {
      "codemirror_mode": {
        "name": "ipython",
        "version": 3
      },
      "file_extension": ".py",
      "mimetype": "text/x-python",
      "name": "python",
      "nbconvert_exporter": "python",
      "pygments_lexer": "ipython3",
      "version": "3.8.5"
    },
    "colab": {
      "name": "Assignment-2_Student.ipynb",
      "provenance": [],
      "collapsed_sections": []
    }
  },
  "cells": [
    {
      "cell_type": "markdown",
      "metadata": {
        "id": "pdkEH2V_37t0"
      },
      "source": [
        "# CS 5683: Big Data Analytics\n",
        "## Assignment - 2: Frequent Itemset Mining"
      ]
    },
    {
      "cell_type": "markdown",
      "metadata": {
        "id": "1IrZT0St37t2"
      },
      "source": [
        "#### Complete TASK-1, TASK-2, and TASK-3 given below\n",
        "#### This assignment extract only frequent itemsets with simple Python programming"
      ]
    },
    {
      "cell_type": "markdown",
      "metadata": {
        "id": "2WHXNxpN37t3"
      },
      "source": [
        "### Assignment Total: 10 points (3% of Final)"
      ]
    },
    {
      "cell_type": "code",
      "metadata": {
        "id": "iCrYG6IP37t4"
      },
      "source": [
        "import itertools"
      ],
      "execution_count": 112,
      "outputs": []
    },
    {
      "cell_type": "code",
      "metadata": {
        "id": "Qus-ei2y37t5"
      },
      "source": [
        "# ****************************** DO NOT EDIT THIS CELL ************************************\n",
        "\n",
        "\n",
        "# Example baskets - each basket has their own list of items\n",
        "# Items are converted to integers for simplicity\n",
        "# we store the list of items as frozenset - hashable when enumerating\n",
        "\n",
        "# For simplicity all data will reside in memory - instead of storing them in a file\n",
        "# Actual data will be in a file. To filter itemsets we need to read data from the file\n",
        "\n",
        "baskets = []\n",
        "baskets.append(frozenset({1,2,5}))\n",
        "baskets.append(frozenset({2,4}))\n",
        "baskets.append(frozenset({2,3}))\n",
        "baskets.append(frozenset({1,2,4}))\n",
        "baskets.append(frozenset({1,3}))\n",
        "baskets.append(frozenset({2,3}))\n",
        "baskets.append(frozenset({1,3}))\n",
        "baskets.append(frozenset({1,2,3,5}))\n",
        "baskets.append(frozenset({1,2,3}))\n",
        "\n",
        "# User input - support threshold\n",
        "s = 2"
      ],
      "execution_count": 113,
      "outputs": []
    },
    {
      "cell_type": "code",
      "metadata": {
        "id": "WdPnNFmW37t5"
      },
      "source": [
        "# ****************************** DO NOT EDIT THIS CELL ************************************\n",
        "\n",
        "# Given k-itemset count dictionary and user's support threshold,\n",
        "    # filter_itemsets remove all k-itemsets whose count < s\n",
        "    # returns the remaining k-itemsets and their corresponding count\n",
        "def filter_itemsets(itemset_dict,s):\n",
        "    # Filter frequent items\n",
        "    for k in list(itemset_dict.keys()):\n",
        "        # Remove non-frequent items\n",
        "        if itemset_dict[k] < s:\n",
        "            del itemset_dict[k]\n",
        "            \n",
        "    return itemset_dict"
      ],
      "execution_count": 114,
      "outputs": []
    },
    {
      "cell_type": "code",
      "metadata": {
        "id": "Yf81DFEx37t6"
      },
      "source": [
        "# Recursive function to compute all k-frequent itemsets\n",
        "# Function Input:\n",
        "    # prev: data structure of itemset from previous iteration \n",
        "            # a dictionary with itemset and their corresponding count\n",
        "    # frequent_items: a list of frequent items\n",
        "    # s: user's support threshold\n",
        "    # k: k-th iteration. \n",
        "                # k=2 means function generate frequent pairs, \n",
        "                # k=3 means function generate frequent triples, ...\n",
        "            \n",
        "def freq_itemsets(prev, frequent_items, s, k):    \n",
        "    # *************************** TASK-1 ******************************** (4 points)\n",
        "    # **************** Generate Candidate Itemsets **********************\n",
        "    # *******************************************************************\n",
        "    # 1. Generate candidate itemsets - itemsets that are potentially frequent\n",
        "    # 2. Use a nested loop with 'prev' and 'frequent_items'to generate candidate itemsets\n",
        "    # 3. Candidate itemsets store k-itemset as a key and '0' as value initially\n",
        "    \n",
        "    # Dictionary to store k-itemset and their corresponding support\n",
        "    # This dictionary will be of same type as 'prev'\n",
        "    candidate_itemsets = dict()\n",
        "    # Nested loop to find candidate itemsets. If a is not subset of b, it combines two keys and gives 0. \n",
        "    for b in prev.keys():\n",
        "      for a in frequent_items:\n",
        "          if not a.issubset(b):\n",
        "            candidate_itemsets[b.union(a)] = 0\n",
        "            \n",
        "    # *************************** TASK-2 ******************************** (3 points)\n",
        "    # ************** Update Candidate Itemsets Count ********************\n",
        "    # *******************************************************************\n",
        "    # 1. Using data in 'baskets', update the count of all candidate_itemsets\n",
        "    # NOTE: Your code should not add any new entry to candidate_itemsets\n",
        "            # This will overwhelm the main-memory for big data\n",
        "    # Prune non-frequent itemsets and count the frequency of it.\n",
        "    for b in baskets:\n",
        "      for i in candidate_itemsets:\n",
        "          if i.issubset(b):\n",
        "              candidate_itemsets[i] += 1\n",
        "    # Filter frequent itemsets\n",
        "    candidate_itemsets = filter_itemsets(candidate_itemsets,s)\n",
        "    \n",
        "    #print(candidate_itemsets)\n",
        "    # *************************** TASK-3 ******************************** (3 points)\n",
        "    # ******** Recursion Logic AND Print Frequent k-Itemsets **************\n",
        "    # *******************************************************************\n",
        "    # 1. Write a recursion logic to compute k+1- frequent itemsets and so on\n",
        "    # 2. Print 'candidate_itemsets' dictionary within the recursion logic - \n",
        "        # This step should be ideally replaced with file write of candidate itemsets\n",
        "    # t is the length of longest itemset. \n",
        "    t = 0\n",
        "    for a in baskets:\n",
        "        if len(a) > t:\n",
        "            t = len(a)\n",
        "    # Only if there is candidate itemsets print the output. \n",
        "    if len(candidate_itemsets) != 0:\n",
        "        print(candidate_itemsets)\n",
        "    # Escape\n",
        "    if t == k:\n",
        "        return\n",
        "    else:\n",
        "        freq_itemsets(candidate_itemsets, frequent_items, s, k+1)"
      ],
      "execution_count": 115,
      "outputs": []
    },
    {
      "cell_type": "code",
      "metadata": {
        "id": "stUUFXMz37t7"
      },
      "source": [
        ""
      ],
      "execution_count": null,
      "outputs": []
    },
    {
      "cell_type": "code",
      "metadata": {
        "id": "WpzJZx3a37t8"
      },
      "source": [
        "# ****************************** DO NOT EDIT THIS CELL ************************************\n",
        "\n",
        "# Compute frequent items\n",
        "singletons = dict() # Dictionary to store the count of all frequent items\n",
        "\n",
        "# Get the count of every item in the data\n",
        "for b in baskets:\n",
        "    for item in b:\n",
        "        try:\n",
        "            # items are stored in frozenset to make future computations easier\n",
        "            singletons[frozenset({item})] += 1\n",
        "        except KeyError as e:\n",
        "            singletons[frozenset({item})] = 1\n",
        "# Filter frequent items\n",
        "singletons = filter_itemsets(singletons,s)"
      ],
      "execution_count": 116,
      "outputs": []
    },
    {
      "cell_type": "code",
      "metadata": {
        "colab": {
          "base_uri": "https://localhost:8080/"
        },
        "id": "VKBUiVT537t-",
        "outputId": "b7ee8ce7-b8f3-47cd-927b-0639acc82985"
      },
      "source": [
        "# ****************************** DO NOT EDIT THIS CELL ************************************\n",
        "\n",
        "k = 2\n",
        "freq_itemsets(singletons,list(singletons.keys()),s, k)"
      ],
      "execution_count": 117,
      "outputs": [
        {
          "output_type": "stream",
          "name": "stdout",
          "text": [
            "{frozenset({1, 2}): 4, frozenset({1, 5}): 2, frozenset({1, 3}): 4, frozenset({2, 5}): 2, frozenset({2, 4}): 2, frozenset({2, 3}): 4}\n",
            "{frozenset({1, 2, 5}): 2, frozenset({1, 2, 3}): 2}\n"
          ]
        }
      ]
    },
    {
      "cell_type": "raw",
      "metadata": {
        "id": "5pyRZQi037t_"
      },
      "source": [
        "If programmed correctly, the above function call will print the following:\n",
        "{frozenset({1, 2}): 4, frozenset({1, 5}): 2, frozenset({1, 3}): 4, frozenset({2, 5}): 2, frozenset({2, 4}): 2, frozenset({2, 3}): 4}\n",
        "{frozenset({1, 2, 5}): 2, frozenset({1, 2, 3}): 2}"
      ]
    },
    {
      "cell_type": "markdown",
      "metadata": {
        "id": "vJh4eMuV37t_"
      },
      "source": [
        "### What to turn-in in Canvas?\n",
        "#### Complete all tasks given above, download this notebook as .ipynb file, and upload it in Canvas"
      ]
    },
    {
      "cell_type": "code",
      "metadata": {
        "id": "hRPcIiRc37uA"
      },
      "source": [
        ""
      ],
      "execution_count": null,
      "outputs": []
    }
  ]
}
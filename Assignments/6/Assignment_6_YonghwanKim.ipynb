{
  "nbformat": 4,
  "nbformat_minor": 0,
  "metadata": {
    "kernelspec": {
      "display_name": "Python 3",
      "language": "python",
      "name": "python3"
    },
    "language_info": {
      "codemirror_mode": {
        "name": "ipython",
        "version": 3
      },
      "file_extension": ".py",
      "mimetype": "text/x-python",
      "name": "python",
      "nbconvert_exporter": "python",
      "pygments_lexer": "ipython3",
      "version": "3.8.5"
    },
    "colab": {
      "name": "Assignment-6_YonghwanKim.ipynb",
      "provenance": [],
      "collapsed_sections": []
    }
  },
  "cells": [
    {
      "cell_type": "markdown",
      "metadata": {
        "id": "UOzCjjhCJgzO"
      },
      "source": [
        "# CS 5683 - Big Data Analytics\n",
        "## Assignment - 6: Graphs"
      ]
    },
    {
      "cell_type": "code",
      "metadata": {
        "id": "PnpeclEPJgzR"
      },
      "source": [
        "# Yonghwan Kim A11746276\n",
        "import networkx as nx\n",
        "import matplotlib.pyplot as plt\n",
        "import numpy as np\n",
        "import collections"
      ],
      "execution_count": 1,
      "outputs": []
    },
    {
      "cell_type": "markdown",
      "metadata": {
        "id": "6nrZ2--aJgzS"
      },
      "source": [
        "### Assignment Total: 15 points (3% of final)"
      ]
    },
    {
      "cell_type": "raw",
      "metadata": {
        "id": "hn8uJWYFJgzT"
      },
      "source": [
        "This is a self-learning assignment for graphs. You will explore a python package called networkx to find some properties of a given graph\n",
        "\n",
        "NetworkX documentation: https://networkx.org/documentation/stable/reference/introduction.html"
      ]
    },
    {
      "cell_type": "code",
      "metadata": {
        "colab": {
          "base_uri": "https://localhost:8080/"
        },
        "id": "flS62hNvJgzT",
        "outputId": "bc85d45f-3132-4dc1-d609-3b6eb27eec5b"
      },
      "source": [
        "from google.colab import drive\n",
        "drive.mount('/content/drive')"
      ],
      "execution_count": 2,
      "outputs": [
        {
          "output_type": "stream",
          "name": "stdout",
          "text": [
            "Drive already mounted at /content/drive; to attempt to forcibly remount, call drive.mount(\"/content/drive\", force_remount=True).\n"
          ]
        }
      ]
    },
    {
      "cell_type": "markdown",
      "metadata": {
        "id": "roPqvb4fJgzT"
      },
      "source": [
        "##### Use the network (edge list) 'Wiki-Vote.txt' given in Canvas"
      ]
    },
    {
      "cell_type": "code",
      "metadata": {
        "id": "czZ5Hj6cJgzU"
      },
      "source": [
        "# NOTE: The data is given as an edgelist\n",
        "# Meaning: each edge (node1,node2) in one line of the input file\n",
        "input_data = '/content/drive/MyDrive/Wiki-Vote.txt'"
      ],
      "execution_count": 3,
      "outputs": []
    },
    {
      "cell_type": "code",
      "metadata": {
        "id": "qcCWu2mYJgzU",
        "colab": {
          "base_uri": "https://localhost:8080/"
        },
        "outputId": "59f5921b-b882-4416-d25a-298ea05f51c7"
      },
      "source": [
        "# Load the data as a directed graph (1 Point)\n",
        "# Note-1: networkx read_edgelist will read the graph as undirected graph\n",
        "# Note-2: you can convert this directed graph to an undirected graph wherever necessary in this assignment\n",
        "\n",
        "graph = nx.read_edgelist(input_data,create_using=nx.DiGraph) # directed graph\n",
        "undirG = nx.Graph(graph) # undirected graph\n",
        "print(f'graph is directed? {nx.is_directed(graph)}')\n",
        "print(f'undirG is directed? {nx.is_directed(undirG)}')"
      ],
      "execution_count": 4,
      "outputs": [
        {
          "output_type": "stream",
          "name": "stdout",
          "text": [
            "graph is directed? True\n",
            "undirG is directed? False\n"
          ]
        }
      ]
    },
    {
      "cell_type": "markdown",
      "metadata": {
        "id": "T2pt0CwQJgzV"
      },
      "source": [
        "##### Print the following basic properties of the given graph"
      ]
    },
    {
      "cell_type": "code",
      "metadata": {
        "colab": {
          "base_uri": "https://localhost:8080/"
        },
        "id": "WyyIr5ilJgzW",
        "outputId": "16457a88-513f-4ce6-951d-54b0cb42717d"
      },
      "source": [
        "# Print the number of nodes and edges in the graph here (2 Points)\n",
        "print(graph) # Directed\n",
        "print(undirG) # Undirected\n",
        "print()\n",
        "print(f'graph: nodes {len(graph.nodes)} edges {len(graph.edges)}') # Directed\n",
        "print(f'undirG: nodes {len(undirG.nodes)} edges {len(undirG.edges)}') # Undirected"
      ],
      "execution_count": 5,
      "outputs": [
        {
          "output_type": "stream",
          "name": "stdout",
          "text": [
            "DiGraph with 7115 nodes and 103689 edges\n",
            "Graph with 7115 nodes and 100762 edges\n",
            "\n",
            "graph: nodes 7115 edges 103689\n",
            "undirG: nodes 7115 edges 100762\n"
          ]
        }
      ]
    },
    {
      "cell_type": "code",
      "metadata": {
        "scrolled": true,
        "colab": {
          "base_uri": "https://localhost:8080/"
        },
        "id": "J0FSimeJJgzW",
        "outputId": "924fe5d7-da3e-4cba-b608-4cbb68173cfb"
      },
      "source": [
        "# Print the number of connected components here (1 Point)\n",
        "# NOTE: There is a networkx package for this\n",
        "print(nx.number_connected_components(undirG)) # the number of connected components"
      ],
      "execution_count": 6,
      "outputs": [
        {
          "output_type": "stream",
          "name": "stdout",
          "text": [
            "24\n"
          ]
        }
      ]
    },
    {
      "cell_type": "code",
      "metadata": {
        "colab": {
          "base_uri": "https://localhost:8080/"
        },
        "id": "esQRnqSTJgzX",
        "outputId": "bb2bb0e6-e09b-4a88-9afe-0b979e6dad45"
      },
      "source": [
        "# Print the number of nodes in each component here(1 Point)\n",
        "set_cc = nx.connected_components(undirG) # find connected components\n",
        "components = 1\n",
        "for c in set_cc:\n",
        "    print(f'Component {components}: {len(c)}')\n",
        "    components = components + 1"
      ],
      "execution_count": 7,
      "outputs": [
        {
          "output_type": "stream",
          "name": "stdout",
          "text": [
            "Component 1: 7066\n",
            "Component 2: 2\n",
            "Component 3: 2\n",
            "Component 4: 2\n",
            "Component 5: 2\n",
            "Component 6: 2\n",
            "Component 7: 2\n",
            "Component 8: 2\n",
            "Component 9: 2\n",
            "Component 10: 2\n",
            "Component 11: 2\n",
            "Component 12: 2\n",
            "Component 13: 2\n",
            "Component 14: 2\n",
            "Component 15: 2\n",
            "Component 16: 3\n",
            "Component 17: 2\n",
            "Component 18: 2\n",
            "Component 19: 3\n",
            "Component 20: 2\n",
            "Component 21: 2\n",
            "Component 22: 2\n",
            "Component 23: 2\n",
            "Component 24: 3\n"
          ]
        }
      ]
    },
    {
      "cell_type": "code",
      "metadata": {
        "id": "iVgFGHmhJgzX",
        "colab": {
          "base_uri": "https://localhost:8080/"
        },
        "outputId": "b77385bb-3853-4927-9eb9-db03af494b54"
      },
      "source": [
        "# Delete all nodes from components which have less than 10 nodes in the graph here (1 Point)\n",
        "print('Before Deletion', graph)\n",
        "conn_comp = list(nx.connected_components(undirG))\n",
        "for c in conn_comp:\n",
        "    if len(c) < 10: # from components that have nodes lesser than 10\n",
        "        for node in c:\n",
        "            graph.remove_node(node) # remove node\n",
        "print('After Deletion', graph)"
      ],
      "execution_count": 8,
      "outputs": [
        {
          "output_type": "stream",
          "name": "stdout",
          "text": [
            "Before Deletion DiGraph with 7115 nodes and 103689 edges\n",
            "After Deletion DiGraph with 7066 nodes and 103663 edges\n"
          ]
        }
      ]
    },
    {
      "cell_type": "code",
      "metadata": {
        "id": "W5I2Qa-VJgzX",
        "colab": {
          "base_uri": "https://localhost:8080/",
          "height": 295
        },
        "outputId": "87bee8a4-dd05-439e-8c5b-192b3dc134fd"
      },
      "source": [
        "# Plot the degree distribution of the graph with a line graph here (5 Points)\n",
        "# NOTE: You have to plot both in-degree and out-degree distribution in the same plot\n",
        "# REFERENCE: https://networkx.org/documentation/networkx-2.3/auto_examples/drawing/plot_degree_histogram.html\n",
        "# You have to get both in_degree and out_degree\n",
        "# You have to use line plot instead of a histogram\n",
        "\n",
        "indegree_sequence = sorted([d for n, d in graph.in_degree()], reverse=True)  # in degree sequence\n",
        "outdegree_sequence = sorted([d for n, d in graph.out_degree()], reverse=True)  # out degree sequence\n",
        "\n",
        "indegreeCount = collections.Counter(indegree_sequence) # in degree counter\n",
        "outdegreeCount = collections.Counter(outdegree_sequence) # out degree counter\n",
        "ideg, icnt = zip(*indegreeCount.items())\n",
        "odeg, ocnt = zip(*outdegreeCount.items())\n",
        "\n",
        "plt.plot(ideg, icnt, color='r')\n",
        "plt.plot(odeg, ocnt, color='b')\n",
        "plt.title(\"Degree Line Plot\")\n",
        "plt.legend([\"In-degree\",\"Out-degree\"])\n",
        "plt.ylabel(\"Count\")\n",
        "plt.xlabel(\"Degree\")\n",
        "\n",
        "plt.show()"
      ],
      "execution_count": 9,
      "outputs": [
        {
          "output_type": "display_data",
          "data": {
            "image/png": "[encoded data removed]",
            "text/plain": [
              "<Figure size 432x288 with 1 Axes>"
            ]
          },
          "metadata": {
            "needs_background": "light"
          }
        }
      ]
    },
    {
      "cell_type": "code",
      "metadata": {
        "id": "2Qx26AKdJgzX"
      },
      "source": [
        ""
      ],
      "execution_count": 9,
      "outputs": []
    },
    {
      "cell_type": "code",
      "metadata": {
        "id": "5UQW2_TlJgzY",
        "colab": {
          "base_uri": "https://localhost:8080/",
          "height": 295
        },
        "outputId": "69fc5df8-55bf-4834-e490-e9edec45d3a4"
      },
      "source": [
        "# Similar to the degree distribution, plot the clustering coefficient distribution of the graph \n",
        "#        with a line graph here (5 Points)\n",
        "# NOTE: You can get the clustering coefficient of each node using the networkX function given below:\n",
        "# REFERENCE: https://networkx.org/documentation/stable/reference/algorithms/generated/networkx.algorithms.cluster.clustering.html\n",
        "# HOW TO PLOT THIS?\n",
        "# STEP-1: Get clustering coefficient of each node\n",
        "# STEP-2: Count the number of nodes with each clustering coefficient value\n",
        "# STEP-3: Plot with clustering coefficient in x-axis and number of nodes in y-axis\n",
        "# We do not need plot with clustering coefficient of both in_degree and out_degree\n",
        "# Use line plot instead of histogram\n",
        "clust_coef = nx.clustering(graph) # find clustering coeffcient\n",
        "clustDict = dict()\n",
        "# Count the number of nodes for each clustering coefficient value\n",
        "for k, v in clust_coef.items():\n",
        "    if v not in clustDict:\n",
        "        clustDict[v] = 1\n",
        "    else:\n",
        "        clustDict[v] = clustDict[v] + 1\n",
        "# sort the dictionary by coefficient value\n",
        "sorted_clustDict = sorted(clustDict.items(), key = lambda kv: kv[0])\n",
        "\n",
        "cl, cnt = zip(*sorted_clustDict)\n",
        "\n",
        "plt.plot(cl, cnt, color='r')\n",
        "plt.title(\"Clustering Coefficient Distribution\")\n",
        "plt.ylabel(\"Number of Nodes\")\n",
        "plt.xlabel(\"Clustering Coefficients\")\n",
        "\n",
        "plt.show()"
      ],
      "execution_count": 10,
      "outputs": [
        {
          "output_type": "display_data",
          "data": {
            "image/png": "[encoded data removed]",
            "text/plain": [
              "<Figure size 432x288 with 1 Axes>"
            ]
          },
          "metadata": {
            "needs_background": "light"
          }
        }
      ]
    },
    {
      "cell_type": "code",
      "metadata": {
        "id": "wLI-3lZRJgzY"
      },
      "source": [
        ""
      ],
      "execution_count": 10,
      "outputs": []
    },
    {
      "cell_type": "code",
      "metadata": {
        "id": "m9LpdFcYJgzY"
      },
      "source": [
        "# TIPS FOR YOUR PLOTS:\n",
        "# Your plots must have the following\n",
        "# x-axis name\n",
        "# y-axis name\n",
        "# plot title\n",
        "# Legend, if there are multiple plots in a same plot"
      ],
      "execution_count": 11,
      "outputs": []
    }
  ]
}
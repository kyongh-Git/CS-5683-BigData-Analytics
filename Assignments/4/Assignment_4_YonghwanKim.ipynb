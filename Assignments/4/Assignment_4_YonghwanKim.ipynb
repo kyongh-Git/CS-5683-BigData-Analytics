{
  "nbformat": 4,
  "nbformat_minor": 0,
  "metadata": {
    "kernelspec": {
      "display_name": "Python 3",
      "language": "python",
      "name": "python3"
    },
    "language_info": {
      "codemirror_mode": {
        "name": "ipython",
        "version": 3
      },
      "file_extension": ".py",
      "mimetype": "text/x-python",
      "name": "python",
      "nbconvert_exporter": "python",
      "pygments_lexer": "ipython3",
      "version": "3.7.4"
    },
    "colab": {
      "name": "Assignment-4_YonghwanKim.ipynb",
      "provenance": [],
      "collapsed_sections": []
    }
  },
  "cells": [
    {
      "cell_type": "markdown",
      "metadata": {
        "id": "Kio-MN5twThh"
      },
      "source": [
        "# CS 5683 - Big Data Analytics\n",
        "## Assignment - 4: Friend Recommendation"
      ]
    },
    {
      "cell_type": "code",
      "metadata": {
        "id": "_lj8p7K2wThk"
      },
      "source": [
        "import itertools"
      ],
      "execution_count": 1,
      "outputs": []
    },
    {
      "cell_type": "markdown",
      "metadata": {
        "id": "xda3muzwwThl"
      },
      "source": [
        "### Assignment Total: 10 points (3% of final)"
      ]
    },
    {
      "cell_type": "code",
      "metadata": {
        "colab": {
          "base_uri": "https://localhost:8080/"
        },
        "id": "QIVeF5SEwrPM",
        "outputId": "88ea8005-41c8-40b6-dafd-20ee447ac80d"
      },
      "source": [
        "from google.colab import drive\n",
        "drive.mount('/content/drive')"
      ],
      "execution_count": 2,
      "outputs": [
        {
          "output_type": "stream",
          "name": "stdout",
          "text": [
            "Drive already mounted at /content/drive; to attempt to forcibly remount, call drive.mount(\"/content/drive\", force_remount=True).\n"
          ]
        }
      ]
    },
    {
      "cell_type": "raw",
      "metadata": {
        "id": "j26doYjLwThl"
      },
      "source": [
        "In this assignment we will create a simple recommender engine that recommend friends based on number of mutual friends"
      ]
    },
    {
      "cell_type": "code",
      "metadata": {
        "id": "g_Kh_vw4wThm"
      },
      "source": [
        "# input data Directory\n",
        "dir = '/content/drive/My Drive'"
      ],
      "execution_count": 3,
      "outputs": []
    },
    {
      "cell_type": "markdown",
      "metadata": {
        "id": "DfxzXl3jwThm"
      },
      "source": [
        "##### Comsider the following list as a simple matrix 'M' for all tasks of this assignment"
      ]
    },
    {
      "cell_type": "code",
      "metadata": {
        "id": "OAwOjhTTwThm"
      },
      "source": [
        "# input data file\n",
        "input_data = 'soc-LiveJournal1Adj.txt'"
      ],
      "execution_count": 4,
      "outputs": []
    },
    {
      "cell_type": "code",
      "metadata": {
        "id": "i8rpbKV0wThn"
      },
      "source": [
        "direct_friends = dict() # Stores directly connected friends\n",
        "\n",
        "# friend_recommendations stores user recommendations\n",
        "# It should be of type dict[dict]\n",
        "# Example-1: \n",
        "    # friend_recommendations[100][125] = 1 \n",
        "    # -- meaning that users 100 and 125 have 1 mutual friend\n",
        "    # In other words, 1 user has 100 and 125 as direct friends\n",
        "# Example-2: \n",
        "    # friend_recommendations[100][146] = 4 \n",
        "    # -- meaning that users 100 and 125 have 4 mutual friends\n",
        "    # In other words, 4 users have 100 and 146 as direct friends\n",
        "friend_recommendations = dict()\n",
        "\n",
        "fp = open(dir + \"/\" + input_data,'r')\n",
        "\n",
        "# Iterate through the data once and fill direct_friends and friend_recommendations\n",
        "for line in fp:\n",
        "    line_split = line.split()\n",
        "    if len(line_split) == 2:\n",
        "        user = int(line_split[0])\n",
        "        friends = list(map(int, set(line_split[1].split(','))))\n",
        "        direct_friends[user] = friends\n",
        "        # Generate user pairs to identify friend recommendation\n",
        "        recommendations = list(itertools.permutations(friends,2))\n",
        "        # does not create permutation for whom has one friend or no friend\n",
        "\n",
        "        # Fill friend_recommendations below (3 POINTS)\n",
        "        # count the appearance of mutual friends\n",
        "        for r in recommendations:\n",
        "            # create data for both users\n",
        "            # recommendation for user1\n",
        "            # if not in the entry yet, create an empty dictionary\n",
        "            if friend_recommendations.get(r[1]) is None: \n",
        "                friend_recommendations[r[1]] = dict()\n",
        "            if friend_recommendations[r[1]].get(r[0]) is None:\n",
        "                friend_recommendations[r[1]][r[0]] = 1\n",
        "            # if exist just increase the recommendation weight value\n",
        "            else:\n",
        "                friend_recommendations[r[1]][r[0]] = friend_recommendations[r[1]][r[0]] + 1\n",
        "            # if not in the entry yet, create an empty dictionary\n",
        "            if friend_recommendations.get(r[0]) is None:\n",
        "                friend_recommendations[r[0]] = dict()\n",
        "            if friend_recommendations[r[0]].get(r[1]) is None:\n",
        "                friend_recommendations[r[0]][r[1]] = 1\n",
        "            # if exist just increase the recommendation weight value\n",
        "            else:\n",
        "                friend_recommendations[r[0]][r[1]] = friend_recommendations[r[0]][r[1]] + 1\n",
        "# close the file\n",
        "fp.close()"
      ],
      "execution_count": 5,
      "outputs": []
    },
    {
      "cell_type": "code",
      "metadata": {
        "id": "VC4I8pjpwThn"
      },
      "source": [
        "# Remove direct friends from friend_recommendations (2 POINTS)\n",
        "for key, friendList in direct_friends.items(): # key value pairs from direct friedns dictionary\n",
        "    for f in friendList: # friend list\n",
        "        # remove direct friend entries from both users\n",
        "        if friend_recommendations.get(f) is not None:\n",
        "            if friend_recommendations[f].get(key) is not None:\n",
        "                del friend_recommendations[f][key]\n",
        "        if friend_recommendations.get(key) is not None:\n",
        "            if friend_recommendations[key].get(f) is not None:\n",
        "                del friend_recommendations[key][f]"
      ],
      "execution_count": 6,
      "outputs": []
    },
    {
      "cell_type": "code",
      "metadata": {
        "id": "98Mvh33BwTho"
      },
      "source": [
        "# Sort recommendations based on number of mutual friends and user IDs here... (3 POINTS)\n",
        "sorted_friend_recommendations = dict()\n",
        "# sort value by number of mutual friends in decreasing order and also sort second key by userID in Increasing order\n",
        "for k1, v1 in friend_recommendations.items():\n",
        "      sorted_friend = {k: v for k, v in sorted(v1.items(), key=lambda item: (-item[1],item[0]))}\n",
        "      sorted_friend_recommendations[k1] = sorted_friend\n",
        "# sort first key by user ID in increasing order\n",
        "sorted_friend_recommendations = {k: v for k, v in sorted(sorted_friend_recommendations.items(), key=lambda item: item[0])}"
      ],
      "execution_count": 7,
      "outputs": []
    },
    {
      "cell_type": "code",
      "metadata": {
        "id": "aIhFaP3AwTho",
        "colab": {
          "base_uri": "https://localhost:8080/"
        },
        "outputId": "8b8ebf8c-6fc3-49e2-dbb9-44fb77a31327"
      },
      "source": [
        "# Print recommendations of users 924, 1153, 6712, 8213, 12835, 23478 here (2 POINTS)\n",
        "# number of recommendations\n",
        "N = 10\n",
        "# list of recommendations of users\n",
        "users = [924, 1153, 6712, 8213, 12835, 23478]\n",
        "# print outputs\n",
        "for u in users:\n",
        "    rcmm = list(sorted_friend_recommendations[u].keys())[:N]\n",
        "    print(str(u) + \": \" + str(rcmm))"
      ],
      "execution_count": 9,
      "outputs": [
        {
          "output_type": "stream",
          "name": "stdout",
          "text": [
            "924: [439, 2409, 6995, 11860, 15416, 43748, 45881]\n",
            "1153: [1108, 1132, 1150, 1127, 1117, 1120, 1138, 1143, 1118, 1124]\n",
            "6712: [6723, 6771, 6756, 6716, 6729, 6748, 6714, 6732, 6717, 6718]\n",
            "8213: [8217, 106, 558, 1100, 1423, 2081, 2181, 2413, 3117, 3126]\n",
            "12835: [6140, 1680, 5460, 7018, 8509, 10778, 26905, 35374, 35991, 1787]\n",
            "23478: [23471, 45481, 557, 2147, 3931, 6455, 6606, 6631, 6634, 6660]\n"
          ]
        }
      ]
    },
    {
      "cell_type": "markdown",
      "metadata": {
        "id": "UX7p7phO3lw_"
      },
      "source": [
        "924: [439, 2409, 6995, 11860, 15416, 43748, 45881]\n",
        "1153: [1108, 1132, 1150, 1127, 1117, 1120, 1138, 1143, 1118, 1124]\n",
        "6712: [6723, 6771, 6756, 6716, 6729, 6748, 6714, 6732, 6717, 6718]\n",
        "8213: [8217, 106, 558, 1100, 1423, 2081, 2181, 2413, 3117, 3126]\n",
        "12835: [6140, 1680, 5460, 7018, 8509, 10778, 26905, 35374, 35991, 1787]\n",
        "23478: [23471, 45481, 557, 2147, 3931, 6455, 6606, 6631, 6634, 6660]"
      ]
    },
    {
      "cell_type": "code",
      "metadata": {
        "scrolled": true,
        "id": "IeCWlK_ewTho",
        "colab": {
          "base_uri": "https://localhost:8080/"
        },
        "outputId": "a20b06a4-aa39-4493-f0e3-75385d8e7476"
      },
      "source": [
        "elevRecm = list(sorted_friend_recommendations[11].keys())[:N]\n",
        "print(\"11: \" + str(elevRecm))"
      ],
      "execution_count": 10,
      "outputs": [
        {
          "output_type": "stream",
          "name": "stdout",
          "text": [
            "11: [27552, 7785, 27573, 27574, 27589, 27590, 27600, 27617, 27620, 27667]\n"
          ]
        }
      ]
    },
    {
      "cell_type": "markdown",
      "metadata": {
        "id": "84Pvnv3p3phy"
      },
      "source": [
        "11: [27552, 7785, 27573, 27574, 27589, 27590, 27600, 27617, 27620, 27667]"
      ]
    },
    {
      "cell_type": "code",
      "metadata": {
        "id": "tVl3suN7wThp"
      },
      "source": [
        "# Sample recommendation\n",
        "# 11: 27552, 7785, 27573, 27574, 27589, 27590, 27600, 27617, 27620, 27667"
      ],
      "execution_count": null,
      "outputs": []
    }
  ]
}
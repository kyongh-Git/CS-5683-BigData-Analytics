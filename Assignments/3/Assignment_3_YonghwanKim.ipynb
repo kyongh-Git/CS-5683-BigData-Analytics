{
  "nbformat": 4,
  "nbformat_minor": 0,
  "metadata": {
    "kernelspec": {
      "display_name": "Python 3",
      "language": "python",
      "name": "python3"
    },
    "language_info": {
      "codemirror_mode": {
        "name": "ipython",
        "version": 3
      },
      "file_extension": ".py",
      "mimetype": "text/x-python",
      "name": "python",
      "nbconvert_exporter": "python",
      "pygments_lexer": "ipython3",
      "version": "3.7.4"
    },
    "colab": {
      "name": "Assignment-3-YonghwanKim.ipynb",
      "provenance": [],
      "collapsed_sections": []
    }
  },
  "cells": [
    {
      "cell_type": "code",
      "metadata": {
        "id": "V1LEYx50WXdC"
      },
      "source": [
        "# Type your name here\n",
        "# Yonghwan Kim A11746276"
      ],
      "execution_count": null,
      "outputs": []
    },
    {
      "cell_type": "markdown",
      "metadata": {
        "id": "pHyjJMfEWXdF"
      },
      "source": [
        "# CS 5683 - Big Data Analytics\n",
        "## Assignment - 3: SVD and PCA"
      ]
    },
    {
      "cell_type": "code",
      "metadata": {
        "id": "tBiSVvKJWXdG"
      },
      "source": [
        "# Import packages here\n",
        "import numpy as np\n",
        "from scipy import linalg"
      ],
      "execution_count": 5,
      "outputs": []
    },
    {
      "cell_type": "markdown",
      "metadata": {
        "id": "OvW1A1PhWXdG"
      },
      "source": [
        "### Assignment Total: 10 points (3% of final)"
      ]
    },
    {
      "cell_type": "raw",
      "metadata": {
        "id": "IBV_Xa60WXdH"
      },
      "source": [
        "1. In this assignment we will analyze the correspondence between Singular Value Decomposition (SVD) and Principal Component Analysis (PCA)\n",
        "\n",
        "2. We will use Python functions to do complex matrix computations"
      ]
    },
    {
      "cell_type": "code",
      "metadata": {
        "id": "NJe-7AHPWXdH"
      },
      "source": [
        ""
      ],
      "execution_count": null,
      "outputs": []
    },
    {
      "cell_type": "markdown",
      "metadata": {
        "id": "TNonNzxlWXdH"
      },
      "source": [
        "##### Comsider the following list as a simple matrix 'M' for all tasks of this assignment"
      ]
    },
    {
      "cell_type": "code",
      "metadata": {
        "id": "iD9U6jK3WXdI"
      },
      "source": [
        "M = [[1,2],[3,4],[5,6],[7,8]] # Convert this list to a matrix"
      ],
      "execution_count": 6,
      "outputs": []
    },
    {
      "cell_type": "code",
      "metadata": {
        "id": "bVNg5G5iWXdI"
      },
      "source": [
        "# Converting list to Matrix \n",
        "M_matrix = np.asarray(M)"
      ],
      "execution_count": 7,
      "outputs": []
    },
    {
      "cell_type": "markdown",
      "metadata": {
        "id": "2ZOFM_9SWXdJ"
      },
      "source": [
        "##### Question-1: Compute SVD of M (2 points)"
      ]
    },
    {
      "cell_type": "code",
      "metadata": {
        "colab": {
          "base_uri": "https://localhost:8080/"
        },
        "id": "A_FUaHYDWXdJ",
        "outputId": "c1da4c9e-f525-42cc-c78a-429544a18228"
      },
      "source": [
        "# Use Python's scipy.linalg.svd function\n",
        "# and set the argument full_matrices to False\n",
        "\n",
        "U, s, Vh = linalg.svd(M_matrix, full_matrices=False)\n",
        "\n",
        "print(\"U = \\n\", U)\n",
        "print(\"∑ = \\n\", s)\n",
        "print(\"VT = \\n\", Vh)"
      ],
      "execution_count": 8,
      "outputs": [
        {
          "output_type": "stream",
          "name": "stdout",
          "text": [
            "U = \n",
            " [[-0.15248323 -0.82264747]\n",
            " [-0.34991837 -0.42137529]\n",
            " [-0.54735351 -0.0201031 ]\n",
            " [-0.74478865  0.38116908]]\n",
            "∑ = \n",
            " [14.2690955   0.62682823]\n",
            "VT = \n",
            " [[-0.64142303 -0.7671874 ]\n",
            " [ 0.7671874  -0.64142303]]\n"
          ]
        }
      ]
    },
    {
      "cell_type": "markdown",
      "metadata": {
        "id": "EARH8o9SWXdJ"
      },
      "source": [
        "Report the values of $ U $, $ \\sum $ and $ V^T $ from SVD of M in the below cell\n",
        "\n",
        "NOTE: Values of $ \\sum $ should be in decreasing order - first element should be greater than the second element, and so on"
      ]
    },
    {
      "cell_type": "code",
      "metadata": {
        "id": "1t_5GGKNWXdK"
      },
      "source": [
        "# U = \n",
        "#  [[-0.15248323 -0.82264747]\n",
        "#  [-0.34991837 -0.42137529]\n",
        "#  [-0.54735351 -0.0201031 ]\n",
        "#  [-0.74478865  0.38116908]]\n",
        "# ∑ = \n",
        "#  [14.2690955   0.62682823]\n",
        "# VT = \n",
        "#  [[-0.64142303 -0.7671874 ]\n",
        "#  [ 0.7671874  -0.64142303]]"
      ],
      "execution_count": null,
      "outputs": []
    },
    {
      "cell_type": "markdown",
      "metadata": {
        "id": "S3saiFfoWXdK"
      },
      "source": [
        "##### Question-2: Compute Eigen Decomposition (2 Points)"
      ]
    },
    {
      "cell_type": "markdown",
      "metadata": {
        "id": "mGrSUIKcWXdK"
      },
      "source": [
        "We do Eigen Decomposition on $ M^TM $"
      ]
    },
    {
      "cell_type": "code",
      "metadata": {
        "colab": {
          "base_uri": "https://localhost:8080/"
        },
        "id": "RLVGdN83WXdL",
        "outputId": "cb28c571-186f-44a0-b509-99eb81f2c377"
      },
      "source": [
        "# Use Python's scipy.linalg.eigh function\n",
        "\n",
        "# Find transpose of M\n",
        "M_transpose = M_matrix.transpose()\n",
        "# MT * M\n",
        "MtM = np.dot(M_transpose, M_matrix)\n",
        "# Find Eigen value and Eigen Vector\n",
        "w, v = linalg.eigh(MtM)\n",
        "print(\"Sorted in decreasing order\")\n",
        "print()\n",
        "print(\"Eigenvalues: \")\n",
        "print(w[::-1])\n",
        "print()\n",
        "print(\"Eigenvectors-matrix: \")\n",
        "print(v[:, ::-1])"
      ],
      "execution_count": 9,
      "outputs": [
        {
          "output_type": "stream",
          "name": "stdout",
          "text": [
            "Sorted in decreasing order\n",
            "\n",
            "Eigenvalues: \n",
            "[203.60708637   0.39291363]\n",
            "\n",
            "Eigenvectors-matrix: \n",
            "[[ 0.64142303 -0.7671874 ]\n",
            " [ 0.7671874   0.64142303]]\n"
          ]
        }
      ]
    },
    {
      "cell_type": "markdown",
      "metadata": {
        "id": "URIgFG6kWXdL"
      },
      "source": [
        "Report Eigenvalues(Evals) and Eigenvectors-matrix(Evecs) from the above function in the below cell\n",
        "\n",
        "NOTE: Make sure Evals are in decreasing order and Eigenvectors in Evecs correspond to that of sorted Eigenvalues in Evecs"
      ]
    },
    {
      "cell_type": "code",
      "metadata": {
        "id": "aDHpkvuXWXdL"
      },
      "source": [
        "# Eigenvalues: \n",
        "# [203.60708637   0.39291363]\n",
        "\n",
        "# Eigenvectors-matrix: \n",
        "# [[ 0.64142303 -0.7671874 ]\n",
        "#  [ 0.7671874   0.64142303]]"
      ],
      "execution_count": null,
      "outputs": []
    },
    {
      "cell_type": "code",
      "metadata": {
        "colab": {
          "base_uri": "https://localhost:8080/"
        },
        "id": "JL76IEyMWXdL",
        "outputId": "b8c29b2f-0813-4037-933a-646a4d5dc46c"
      },
      "source": [
        "print(\"VTT from SVD \\n\", Vh.transpose())\n",
        "print()\n",
        "print(\"v reverse from Eigen \\n\", v[:, ::-1])"
      ],
      "execution_count": 10,
      "outputs": [
        {
          "output_type": "stream",
          "name": "stdout",
          "text": [
            "VTT from SVD \n",
            " [[-0.64142303  0.7671874 ]\n",
            " [-0.7671874  -0.64142303]]\n",
            "\n",
            "v reverse from Eigen \n",
            " [[ 0.64142303 -0.7671874 ]\n",
            " [ 0.7671874   0.64142303]]\n"
          ]
        }
      ]
    },
    {
      "cell_type": "markdown",
      "metadata": {
        "id": "jLFWM31xWXdM"
      },
      "source": [
        "##### Question-3: V Vs. Evecs (2 Points)"
      ]
    },
    {
      "cell_type": "markdown",
      "metadata": {
        "id": "X3WO67ytWXdM"
      },
      "source": [
        "What is the correspondence between **$ V $** from scipy.linalg.svd function and **Evecs** from scipy.linalg.eigh function? Write your answer in the below cell.\n",
        "\n",
        "NOTE: scipy.linalg.svd function returns $ V^T $ not $ V $"
      ]
    },
    {
      "cell_type": "raw",
      "metadata": {
        "id": "5AhWHdozWXdM"
      },
      "source": [
        "# V from SVD \n",
        " [[-0.64142303  0.7671874 ]\n",
        " [-0.7671874  -0.64142303]]"
      ]
    },
    {
      "cell_type": "raw",
      "metadata": {
        "id": "fcqh2JSmWXdM"
      },
      "source": [
        "# Evecs from Eigen \n",
        " [[ 0.64142303 -0.7671874 ]\n",
        " [ 0.7671874   0.64142303]]\n",
        "\n",
        " # V(Evecs) = -1 * V(SVD) "
      ]
    },
    {
      "cell_type": "markdown",
      "metadata": {
        "id": "GZBAc8ukWXdM"
      },
      "source": [
        "##### Question-4 Sigma Vs. EVals (2 Points)"
      ]
    },
    {
      "cell_type": "markdown",
      "metadata": {
        "id": "nlGYdUW53VYp"
      },
      "source": [
        ""
      ]
    },
    {
      "cell_type": "markdown",
      "metadata": {
        "id": "KY2lShbZWXdM"
      },
      "source": [
        "What is the correspondence between **$ \\sum $** from scipy.linalg.svd function and **Evals** from scipy.linalg.eigh function? Write your answer in the below cell."
      ]
    },
    {
      "cell_type": "raw",
      "metadata": {
        "id": "by8VmFHqWXdN"
      },
      "source": [
        "# ∑ = \n",
        " [14.2690955   0.62682823]"
      ]
    },
    {
      "cell_type": "raw",
      "metadata": {
        "id": "Ea5xbFdIWXdN"
      },
      "source": [
        "# Eigenvalues =\n",
        "[203.60708637   0.39291363]\n",
        "\n",
        "# ∑^2 = S(Evals)"
      ]
    },
    {
      "cell_type": "markdown",
      "metadata": {
        "id": "2lPojS5IWXdN"
      },
      "source": [
        "##### Question-5: Do you think we can achieve PCA with SVD? If so, how? (2 Points)"
      ]
    },
    {
      "cell_type": "raw",
      "metadata": {
        "id": "-RR1ttMbWXdN"
      },
      "source": [
        "Write your answer here...\n",
        "\n",
        "# We can achieve PCA with SVD. \n",
        "# Because SVD can take non-square matrix and MT * M = V * ∑^2 * VT."
      ]
    }
  ]
}
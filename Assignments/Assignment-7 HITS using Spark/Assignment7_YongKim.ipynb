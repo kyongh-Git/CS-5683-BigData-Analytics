{
  "nbformat": 4,
  "nbformat_minor": 0,
  "metadata": {
    "colab": {
      "name": "Assignment7_YongKim.ipynb",
      "provenance": [],
      "collapsed_sections": []
    },
    "kernelspec": {
      "name": "python3",
      "display_name": "Python 3"
    },
    "language_info": {
      "name": "python"
    }
  },
  "cells": [
    {
      "cell_type": "code",
      "metadata": {
        "colab": {
          "base_uri": "https://localhost:8080/"
        },
        "id": "Ep4viEZ-9FLU",
        "outputId": "6c97f5df-1176-4543-b33c-870809b80b4f"
      },
      "source": [
        "pip install pyspark"
      ],
      "execution_count": 1,
      "outputs": [
        {
          "output_type": "stream",
          "name": "stdout",
          "text": [
            "Requirement already satisfied: pyspark in /usr/local/lib/python3.7/dist-packages (3.2.0)\n",
            "Requirement already satisfied: py4j==0.10.9.2 in /usr/local/lib/python3.7/dist-packages (from pyspark) (0.10.9.2)\n"
          ]
        }
      ]
    },
    {
      "cell_type": "code",
      "metadata": {
        "id": "c_91gi3SOAJS"
      },
      "source": [
        "# Yonghwan Kim A11746276\n",
        "import matplotlib.pyplot as plt\n",
        "import numpy as np\n",
        "import sys\n",
        "# spark context intialized\n",
        "from pyspark import SparkContext, SparkConf\n",
        "sc = SparkContext(\"local\",\"assignment7\")"
      ],
      "execution_count": 2,
      "outputs": []
    },
    {
      "cell_type": "code",
      "metadata": {
        "colab": {
          "base_uri": "https://localhost:8080/"
        },
        "id": "Edn351SaOB9Z",
        "outputId": "c06087ff-7501-4a64-b1ff-10ab7ccc5e2b"
      },
      "source": [
        "# mount the drive\n",
        "from google.colab import drive\n",
        "drive.mount('/content/drive')"
      ],
      "execution_count": 3,
      "outputs": [
        {
          "output_type": "stream",
          "name": "stdout",
          "text": [
            "Drive already mounted at /content/drive; to attempt to forcibly remount, call drive.mount(\"/content/drive\", force_remount=True).\n"
          ]
        }
      ]
    },
    {
      "cell_type": "code",
      "metadata": {
        "id": "kS-WF3-tGD0L"
      },
      "source": [
        "# directory to the input file\n",
        "graph_dataset_dir = '/content/drive/MyDrive/email-Eu-core.txt'"
      ],
      "execution_count": 4,
      "outputs": []
    },
    {
      "cell_type": "code",
      "metadata": {
        "id": "PFWsJixmOX8T",
        "colab": {
          "base_uri": "https://localhost:8080/"
        },
        "outputId": "fd50b7a0-16e1-4d87-b1bf-83a39cb9ec68"
      },
      "source": [
        "# import the graph input file to RDD\n",
        "rddTextfile = sc.textFile(graph_dataset_dir)\n",
        "# collect node data\n",
        "nodeRDD = rddTextfile.flatMap(lambda x: x.split()).distinct().map(lambda x: int(x))\n",
        "# collect edge data\n",
        "edgeRDD = rddTextfile.map(lambda x: x.split()).map(lambda x: (int(x[0]), int(x[1])))\n",
        "edgeList = edgeRDD.collect()\n",
        "# number of nodes\n",
        "nodeNum = nodeRDD.count()\n",
        "# number of edges\n",
        "edgeNum = edgeRDD.count()\n",
        "print(nodeNum, edgeNum)\n",
        "# funtion to put edge info to L matrix\n",
        "def L_mt(L_np):\n",
        "    for i, j in edgeList:\n",
        "        L_np[i][j] = 1\n",
        "    return L_np\n",
        "# Create L matrix initialize with zeros and put edge information later\n",
        "L_RDD = sc.parallelize(L_mt(np.zeros((nodeNum,nodeNum))))\n",
        "# L transpose matrix\n",
        "LT_RDD = sc.parallelize(np.transpose(L_mt(np.zeros((nodeNum,nodeNum)))))\n",
        "# hub column vector with elements having 1\n",
        "h = np.ones((nodeNum)).reshape(nodeNum, 1)\n",
        "# authority column vector with elements having 0\n",
        "a = np.zeros((nodeNum)).reshape(nodeNum, 1)\n",
        "# iterate 40 times until converge\n",
        "for r in range(40):\n",
        "    # authority vector is dot product of L transpose matrix and h vector\n",
        "    a_rdd = LT_RDD.map(lambda x: np.dot(x, h))\n",
        "    a = a_rdd.collect()\n",
        "    # hub vector is dot product of L matrix and a vector\n",
        "    h_rdd = L_RDD.map(lambda x: np.dot(x, a))\n",
        "    h = h_rdd.collect()\n",
        "    # normalize authority and hub vectors to scale between 0 to 1\n",
        "    normalize_a = np.sqrt(sum([x**2 for x in a]))\n",
        "    normalize_h = np.sqrt(sum([x**2 for x in h]))\n",
        "    a = [x / normalize_a for x in a]\n",
        "    h = [x / normalize_h for x in h]\n",
        "\n",
        "    # print(\"a: \", list(np.around(a, 3)))\n",
        "    # print(\"h: \", list(np.around(h, 3)))"
      ],
      "execution_count": 5,
      "outputs": [
        {
          "output_type": "stream",
          "name": "stdout",
          "text": [
            "1005 25571\n"
          ]
        }
      ]
    },
    {
      "cell_type": "code",
      "metadata": {
        "colab": {
          "base_uri": "https://localhost:8080/"
        },
        "id": "72ErOaIF_daW",
        "outputId": "bb411b8c-a1cd-486c-c1e7-7e1f3fda6474"
      },
      "source": [
        "h_list = []\n",
        "h_counter = 0\n",
        "# indexing\n",
        "for h1 in h:\n",
        "    h_list.append((h_counter, h1))\n",
        "    h_counter = h_counter + 1\n",
        "# sorted in decreasing order to get the top 5 hub scores\n",
        "h_reverse_sorted = sorted(h_list, key = lambda x: x[1], reverse = True)\n",
        "print(\"List of 5 top node ids and their hub scores\")\n",
        "print(h_reverse_sorted[0], h_reverse_sorted[1], h_reverse_sorted[2], h_reverse_sorted[3], h_reverse_sorted[4])\n",
        "print(\"\\n\")\n",
        "# sorted in increasing order to get the buttom 5 hub scores\n",
        "h_sorted = sorted(h_list, key = lambda x: x[1], reverse = False)\n",
        "print(\"List of 5 bottom node ids and their hub scores\")\n",
        "print(h_sorted[0], h_sorted[1], h_sorted[2], h_sorted[3], h_sorted[4])\n",
        "print(\"\\n\")\n",
        "\n",
        "a_list = []\n",
        "a_counter = 0\n",
        "# indexing\n",
        "for a1 in a:\n",
        "    a_list.append((a_counter, a1))\n",
        "    a_counter = a_counter + 1\n",
        "# sorted in decreasing order to get the top 5 authority scores\n",
        "a_reverse_sorted = sorted(a_list, key = lambda x: x[1], reverse = True)\n",
        "print(\"List of 5 top node ids and their authority scores\")\n",
        "print(a_reverse_sorted[0], a_reverse_sorted[1], a_reverse_sorted[2], a_reverse_sorted[3], a_reverse_sorted[4])\n",
        "print(\"\\n\")\n",
        "# sorted in increasing order to get the buttom 5 authority scores\n",
        "a_sorted = sorted(a_list, key = lambda x: x[1], reverse = False)\n",
        "print(\"List of 5 bottom node ids and their authority scores\")\n",
        "print(a_sorted[0], a_sorted[1], a_sorted[2], a_sorted[3], a_sorted[4])"
      ],
      "execution_count": 6,
      "outputs": [
        {
          "output_type": "stream",
          "name": "stdout",
          "text": [
            "List of 5 top node ids and their hub scores\n",
            "(160, array([0.19155185])) (82, array([0.17331116])) (121, array([0.17175556])) (107, array([0.15837819])) (62, array([0.14836754]))\n",
            "\n",
            "\n",
            "List of 5 bottom node ids and their hub scores\n",
            "(78, array([0.])) (203, array([0.])) (239, array([0.])) (289, array([0.])) (315, array([0.]))\n",
            "\n",
            "\n",
            "List of 5 top node ids and their authority scores\n",
            "(160, array([0.14388814])) (107, array([0.13746519])) (62, array([0.13343406])) (434, array([0.12923347])) (121, array([0.12896424]))\n",
            "\n",
            "\n",
            "List of 5 bottom node ids and their authority scores\n",
            "(524, array([0.])) (750, array([0.])) (755, array([0.])) (790, array([0.])) (858, array([0.]))\n"
          ]
        }
      ]
    },
    {
      "cell_type": "markdown",
      "metadata": {
        "id": "MDc3rX1qm2b1"
      },
      "source": [
        "List of 5 top node ids and their hub scores\n",
        "(160, array([0.19155185])) (82, array([0.17331116])) (121, array([0.17175556])) (107, array([0.15837819])) (62, array([0.14836754]))\n",
        "\n",
        "\n",
        "List of 5 bottom node ids and their hub scores\n",
        "(78, array([0.])) (203, array([0.])) (239, array([0.])) (289, array([0.])) (315, array([0.]))\n",
        "\n",
        "\n",
        "List of 5 top node ids and their authority scores\n",
        "(160, array([0.14388814])) (107, array([0.13746519])) (62, array([0.13343406])) (434, array([0.12923347])) (121, array([0.12896424]))\n",
        "\n",
        "\n",
        "List of 5 bottom node ids and their authority scores\n",
        "(524, array([0.])) (750, array([0.])) (755, array([0.])) (790, array([0.])) (858, array([0.]))"
      ]
    }
  ]
}